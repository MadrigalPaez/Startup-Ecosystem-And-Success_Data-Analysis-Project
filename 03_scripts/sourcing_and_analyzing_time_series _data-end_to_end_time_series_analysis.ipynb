{
 "cells": [
  {
   "cell_type": "markdown",
   "metadata": {},
   "source": [
    "## Importing libraries"
   ]
  },
  {
   "cell_type": "code",
   "execution_count": 181,
   "metadata": {},
   "outputs": [],
   "source": [
    "import quandl\n",
    "import nasdaqdatalink\n",
    "import time\n",
    "import pandas as pd\n",
    "import numpy as np\n",
    "import seaborn as sns\n",
    "import matplotlib\n",
    "import matplotlib.pyplot as plt\n",
    "import plotly.express as px\n",
    "import statsmodels.api as sm \n",
    "import os\n",
    "import warnings\n",
    "import nasdaqdatalink\n",
    "import pandas as pd\n",
    "from statsmodels.tsa.stattools import adfuller\n",
    "from statsmodels.graphics.tsaplots import plot_acf, plot_pacf\n",
    "import matplotlib.pyplot as plt"
   ]
  },
  {
   "cell_type": "markdown",
   "metadata": {},
   "source": [
    "## Importing data from Nasdaq"
   ]
  },
  {
   "cell_type": "code",
   "execution_count": 182,
   "metadata": {},
   "outputs": [],
   "source": [
    "# Configuring API key\n",
    "\n",
    "nasdaqdatalink.ApiConfig.api_key = \"zrm8zQsS-ZQa9eBQ5d9P\""
   ]
  },
  {
   "cell_type": "code",
   "execution_count": 183,
   "metadata": {},
   "outputs": [],
   "source": [
    "# Importing World Bank Data from Nasdaq databases (https://data.nasdaq.com/databases/WB)\n",
    "\n",
    "# Selecting Inflation and R&D spending, and the 10 countries I have in my original Startups dataset"
   ]
  },
  {
   "cell_type": "code",
   "execution_count": 184,
   "metadata": {},
   "outputs": [],
   "source": [
    "countries = [\"CAN\",\"GBR\",\"USA\",\"FRA\",\"JPN\",\"CHN\",\"AUS\",\"BRA\",\"IND\",\"DEU\"]\n",
    "series_ids = {\n",
    "    \"Inflation\": \"FP.CPI.TOTL.ZG\",\n",
    "    \"R&D Spending\": \"GB.XPD.RSDV.GD.ZS\"\n",
    "}\n",
    "\n",
    "dfs = []\n",
    "\n",
    "for name, series in series_ids.items():\n",
    "    for country in countries:\n",
    "        inflation_rd_dataset_temp = nasdaqdatalink.get_table(\n",
    "            \"WB/DATA\",\n",
    "            series_id=series,\n",
    "            country_code=country\n",
    "        )\n",
    "        inflation_rd_dataset_temp[\"indicator\"] = name\n",
    "        inflation_rd_dataset_temp[\"country_code\"] = country\n",
    "        dfs.append(inflation_rd_dataset_temp)\n",
    "        time.sleep(30)\n",
    "\n",
    "inflation_rd_dataset = pd.concat(dfs, ignore_index=True)"
   ]
  },
  {
   "cell_type": "code",
   "execution_count": 185,
   "metadata": {},
   "outputs": [
    {
     "data": {
      "text/html": [
       "<div>\n",
       "<style scoped>\n",
       "    .dataframe tbody tr th:only-of-type {\n",
       "        vertical-align: middle;\n",
       "    }\n",
       "\n",
       "    .dataframe tbody tr th {\n",
       "        vertical-align: top;\n",
       "    }\n",
       "\n",
       "    .dataframe thead th {\n",
       "        text-align: right;\n",
       "    }\n",
       "</style>\n",
       "<table border=\"1\" class=\"dataframe\">\n",
       "  <thead>\n",
       "    <tr style=\"text-align: right;\">\n",
       "      <th></th>\n",
       "      <th>series_id</th>\n",
       "      <th>country_code</th>\n",
       "      <th>country_name</th>\n",
       "      <th>year</th>\n",
       "      <th>value</th>\n",
       "      <th>indicator</th>\n",
       "    </tr>\n",
       "  </thead>\n",
       "  <tbody>\n",
       "    <tr>\n",
       "      <th>0</th>\n",
       "      <td>FP.CPI.TOTL.ZG</td>\n",
       "      <td>CAN</td>\n",
       "      <td>Canada</td>\n",
       "      <td>2023</td>\n",
       "      <td>3.879002</td>\n",
       "      <td>Inflation</td>\n",
       "    </tr>\n",
       "    <tr>\n",
       "      <th>1</th>\n",
       "      <td>FP.CPI.TOTL.ZG</td>\n",
       "      <td>CAN</td>\n",
       "      <td>Canada</td>\n",
       "      <td>2022</td>\n",
       "      <td>6.802801</td>\n",
       "      <td>Inflation</td>\n",
       "    </tr>\n",
       "    <tr>\n",
       "      <th>2</th>\n",
       "      <td>FP.CPI.TOTL.ZG</td>\n",
       "      <td>CAN</td>\n",
       "      <td>Canada</td>\n",
       "      <td>2021</td>\n",
       "      <td>3.395193</td>\n",
       "      <td>Inflation</td>\n",
       "    </tr>\n",
       "    <tr>\n",
       "      <th>3</th>\n",
       "      <td>FP.CPI.TOTL.ZG</td>\n",
       "      <td>CAN</td>\n",
       "      <td>Canada</td>\n",
       "      <td>2020</td>\n",
       "      <td>0.717000</td>\n",
       "      <td>Inflation</td>\n",
       "    </tr>\n",
       "    <tr>\n",
       "      <th>4</th>\n",
       "      <td>FP.CPI.TOTL.ZG</td>\n",
       "      <td>CAN</td>\n",
       "      <td>Canada</td>\n",
       "      <td>2019</td>\n",
       "      <td>1.949269</td>\n",
       "      <td>Inflation</td>\n",
       "    </tr>\n",
       "    <tr>\n",
       "      <th>5</th>\n",
       "      <td>FP.CPI.TOTL.ZG</td>\n",
       "      <td>CAN</td>\n",
       "      <td>Canada</td>\n",
       "      <td>2018</td>\n",
       "      <td>2.268226</td>\n",
       "      <td>Inflation</td>\n",
       "    </tr>\n",
       "    <tr>\n",
       "      <th>6</th>\n",
       "      <td>FP.CPI.TOTL.ZG</td>\n",
       "      <td>CAN</td>\n",
       "      <td>Canada</td>\n",
       "      <td>2017</td>\n",
       "      <td>1.596884</td>\n",
       "      <td>Inflation</td>\n",
       "    </tr>\n",
       "    <tr>\n",
       "      <th>7</th>\n",
       "      <td>FP.CPI.TOTL.ZG</td>\n",
       "      <td>CAN</td>\n",
       "      <td>Canada</td>\n",
       "      <td>2016</td>\n",
       "      <td>1.428760</td>\n",
       "      <td>Inflation</td>\n",
       "    </tr>\n",
       "    <tr>\n",
       "      <th>8</th>\n",
       "      <td>FP.CPI.TOTL.ZG</td>\n",
       "      <td>CAN</td>\n",
       "      <td>Canada</td>\n",
       "      <td>2015</td>\n",
       "      <td>1.125241</td>\n",
       "      <td>Inflation</td>\n",
       "    </tr>\n",
       "    <tr>\n",
       "      <th>9</th>\n",
       "      <td>FP.CPI.TOTL.ZG</td>\n",
       "      <td>CAN</td>\n",
       "      <td>Canada</td>\n",
       "      <td>2014</td>\n",
       "      <td>1.906636</td>\n",
       "      <td>Inflation</td>\n",
       "    </tr>\n",
       "    <tr>\n",
       "      <th>10</th>\n",
       "      <td>FP.CPI.TOTL.ZG</td>\n",
       "      <td>CAN</td>\n",
       "      <td>Canada</td>\n",
       "      <td>2013</td>\n",
       "      <td>0.938292</td>\n",
       "      <td>Inflation</td>\n",
       "    </tr>\n",
       "    <tr>\n",
       "      <th>11</th>\n",
       "      <td>FP.CPI.TOTL.ZG</td>\n",
       "      <td>CAN</td>\n",
       "      <td>Canada</td>\n",
       "      <td>2012</td>\n",
       "      <td>1.515678</td>\n",
       "      <td>Inflation</td>\n",
       "    </tr>\n",
       "    <tr>\n",
       "      <th>12</th>\n",
       "      <td>FP.CPI.TOTL.ZG</td>\n",
       "      <td>CAN</td>\n",
       "      <td>Canada</td>\n",
       "      <td>2011</td>\n",
       "      <td>2.912135</td>\n",
       "      <td>Inflation</td>\n",
       "    </tr>\n",
       "    <tr>\n",
       "      <th>13</th>\n",
       "      <td>FP.CPI.TOTL.ZG</td>\n",
       "      <td>CAN</td>\n",
       "      <td>Canada</td>\n",
       "      <td>2010</td>\n",
       "      <td>1.776872</td>\n",
       "      <td>Inflation</td>\n",
       "    </tr>\n",
       "    <tr>\n",
       "      <th>14</th>\n",
       "      <td>FP.CPI.TOTL.ZG</td>\n",
       "      <td>CAN</td>\n",
       "      <td>Canada</td>\n",
       "      <td>2009</td>\n",
       "      <td>0.299467</td>\n",
       "      <td>Inflation</td>\n",
       "    </tr>\n",
       "    <tr>\n",
       "      <th>15</th>\n",
       "      <td>FP.CPI.TOTL.ZG</td>\n",
       "      <td>CAN</td>\n",
       "      <td>Canada</td>\n",
       "      <td>2008</td>\n",
       "      <td>2.370271</td>\n",
       "      <td>Inflation</td>\n",
       "    </tr>\n",
       "    <tr>\n",
       "      <th>16</th>\n",
       "      <td>FP.CPI.TOTL.ZG</td>\n",
       "      <td>CAN</td>\n",
       "      <td>Canada</td>\n",
       "      <td>2007</td>\n",
       "      <td>2.138384</td>\n",
       "      <td>Inflation</td>\n",
       "    </tr>\n",
       "    <tr>\n",
       "      <th>17</th>\n",
       "      <td>FP.CPI.TOTL.ZG</td>\n",
       "      <td>CAN</td>\n",
       "      <td>Canada</td>\n",
       "      <td>2006</td>\n",
       "      <td>2.002025</td>\n",
       "      <td>Inflation</td>\n",
       "    </tr>\n",
       "    <tr>\n",
       "      <th>18</th>\n",
       "      <td>FP.CPI.TOTL.ZG</td>\n",
       "      <td>CAN</td>\n",
       "      <td>Canada</td>\n",
       "      <td>2005</td>\n",
       "      <td>2.213552</td>\n",
       "      <td>Inflation</td>\n",
       "    </tr>\n",
       "    <tr>\n",
       "      <th>19</th>\n",
       "      <td>FP.CPI.TOTL.ZG</td>\n",
       "      <td>CAN</td>\n",
       "      <td>Canada</td>\n",
       "      <td>2004</td>\n",
       "      <td>1.857259</td>\n",
       "      <td>Inflation</td>\n",
       "    </tr>\n",
       "  </tbody>\n",
       "</table>\n",
       "</div>"
      ],
      "text/plain": [
       "         series_id country_code country_name  year     value  indicator\n",
       "0   FP.CPI.TOTL.ZG          CAN       Canada  2023  3.879002  Inflation\n",
       "1   FP.CPI.TOTL.ZG          CAN       Canada  2022  6.802801  Inflation\n",
       "2   FP.CPI.TOTL.ZG          CAN       Canada  2021  3.395193  Inflation\n",
       "3   FP.CPI.TOTL.ZG          CAN       Canada  2020  0.717000  Inflation\n",
       "4   FP.CPI.TOTL.ZG          CAN       Canada  2019  1.949269  Inflation\n",
       "5   FP.CPI.TOTL.ZG          CAN       Canada  2018  2.268226  Inflation\n",
       "6   FP.CPI.TOTL.ZG          CAN       Canada  2017  1.596884  Inflation\n",
       "7   FP.CPI.TOTL.ZG          CAN       Canada  2016  1.428760  Inflation\n",
       "8   FP.CPI.TOTL.ZG          CAN       Canada  2015  1.125241  Inflation\n",
       "9   FP.CPI.TOTL.ZG          CAN       Canada  2014  1.906636  Inflation\n",
       "10  FP.CPI.TOTL.ZG          CAN       Canada  2013  0.938292  Inflation\n",
       "11  FP.CPI.TOTL.ZG          CAN       Canada  2012  1.515678  Inflation\n",
       "12  FP.CPI.TOTL.ZG          CAN       Canada  2011  2.912135  Inflation\n",
       "13  FP.CPI.TOTL.ZG          CAN       Canada  2010  1.776872  Inflation\n",
       "14  FP.CPI.TOTL.ZG          CAN       Canada  2009  0.299467  Inflation\n",
       "15  FP.CPI.TOTL.ZG          CAN       Canada  2008  2.370271  Inflation\n",
       "16  FP.CPI.TOTL.ZG          CAN       Canada  2007  2.138384  Inflation\n",
       "17  FP.CPI.TOTL.ZG          CAN       Canada  2006  2.002025  Inflation\n",
       "18  FP.CPI.TOTL.ZG          CAN       Canada  2005  2.213552  Inflation\n",
       "19  FP.CPI.TOTL.ZG          CAN       Canada  2004  1.857259  Inflation"
      ]
     },
     "execution_count": 185,
     "metadata": {},
     "output_type": "execute_result"
    }
   ],
   "source": [
    "inflation_rd_dataset.head(20)"
   ]
  },
  {
   "cell_type": "code",
   "execution_count": 186,
   "metadata": {},
   "outputs": [],
   "source": [
    "# Pivoting table to create two diff. columns for Inflation and R&D\n",
    "\n",
    "inflation_rd_dataset_ordered = inflation_rd_dataset.pivot_table(\n",
    "    index=[\"year\", \"country_code\", \"country_name\"], \n",
    "    columns=\"indicator\", \n",
    "    values=\"value\"\n",
    ").reset_index()"
   ]
  },
  {
   "cell_type": "code",
   "execution_count": 187,
   "metadata": {},
   "outputs": [
    {
     "data": {
      "text/html": [
       "<div>\n",
       "<style scoped>\n",
       "    .dataframe tbody tr th:only-of-type {\n",
       "        vertical-align: middle;\n",
       "    }\n",
       "\n",
       "    .dataframe tbody tr th {\n",
       "        vertical-align: top;\n",
       "    }\n",
       "\n",
       "    .dataframe thead th {\n",
       "        text-align: right;\n",
       "    }\n",
       "</style>\n",
       "<table border=\"1\" class=\"dataframe\">\n",
       "  <thead>\n",
       "    <tr style=\"text-align: right;\">\n",
       "      <th>indicator</th>\n",
       "      <th>year</th>\n",
       "      <th>country_code</th>\n",
       "      <th>country_name</th>\n",
       "      <th>Inflation</th>\n",
       "      <th>R&amp;D Spending</th>\n",
       "    </tr>\n",
       "  </thead>\n",
       "  <tbody>\n",
       "    <tr>\n",
       "      <th>0</th>\n",
       "      <td>1960</td>\n",
       "      <td>AUS</td>\n",
       "      <td>Australia</td>\n",
       "      <td>3.728814</td>\n",
       "      <td>NaN</td>\n",
       "    </tr>\n",
       "    <tr>\n",
       "      <th>1</th>\n",
       "      <td>1960</td>\n",
       "      <td>CAN</td>\n",
       "      <td>Canada</td>\n",
       "      <td>1.358696</td>\n",
       "      <td>NaN</td>\n",
       "    </tr>\n",
       "    <tr>\n",
       "      <th>2</th>\n",
       "      <td>1960</td>\n",
       "      <td>DEU</td>\n",
       "      <td>Germany</td>\n",
       "      <td>1.536612</td>\n",
       "      <td>NaN</td>\n",
       "    </tr>\n",
       "    <tr>\n",
       "      <th>3</th>\n",
       "      <td>1960</td>\n",
       "      <td>FRA</td>\n",
       "      <td>France</td>\n",
       "      <td>4.139936</td>\n",
       "      <td>NaN</td>\n",
       "    </tr>\n",
       "    <tr>\n",
       "      <th>4</th>\n",
       "      <td>1960</td>\n",
       "      <td>GBR</td>\n",
       "      <td>United Kingdom</td>\n",
       "      <td>1.003576</td>\n",
       "      <td>NaN</td>\n",
       "    </tr>\n",
       "  </tbody>\n",
       "</table>\n",
       "</div>"
      ],
      "text/plain": [
       "indicator  year country_code    country_name  Inflation  R&D Spending\n",
       "0          1960          AUS       Australia   3.728814           NaN\n",
       "1          1960          CAN          Canada   1.358696           NaN\n",
       "2          1960          DEU         Germany   1.536612           NaN\n",
       "3          1960          FRA          France   4.139936           NaN\n",
       "4          1960          GBR  United Kingdom   1.003576           NaN"
      ]
     },
     "execution_count": 187,
     "metadata": {},
     "output_type": "execute_result"
    }
   ],
   "source": [
    "inflation_rd_dataset_ordered.head()"
   ]
  },
  {
   "cell_type": "markdown",
   "metadata": {},
   "source": [
    "## Subsetting, wrangling, and cleaning time-series data"
   ]
  },
  {
   "cell_type": "code",
   "execution_count": 188,
   "metadata": {},
   "outputs": [
    {
     "name": "stdout",
     "output_type": "stream",
     "text": [
      "<class 'pandas.core.frame.DataFrame'>\n",
      "RangeIndex: 592 entries, 0 to 591\n",
      "Data columns (total 5 columns):\n",
      " #   Column        Non-Null Count  Dtype  \n",
      "---  ------        --------------  -----  \n",
      " 0   year          592 non-null    int64  \n",
      " 1   country_code  592 non-null    object \n",
      " 2   country_name  592 non-null    object \n",
      " 3   Inflation     592 non-null    float64\n",
      " 4   R&D Spending  242 non-null    float64\n",
      "dtypes: float64(2), int64(1), object(2)\n",
      "memory usage: 23.3+ KB\n"
     ]
    }
   ],
   "source": [
    "inflation_rd_dataset_ordered.info()"
   ]
  },
  {
   "cell_type": "code",
   "execution_count": 189,
   "metadata": {},
   "outputs": [],
   "source": [
    "# Normalizing columns' names\n",
    "\n",
    "inflation_rd_dataset_ordered = inflation_rd_dataset_ordered.rename(columns={\n",
    "    \"Inflation\": \"inflation\",\n",
    "    \"R&D Spending\": \"r&d\"\n",
    "})"
   ]
  },
  {
   "cell_type": "code",
   "execution_count": 190,
   "metadata": {},
   "outputs": [
    {
     "data": {
      "text/html": [
       "<div>\n",
       "<style scoped>\n",
       "    .dataframe tbody tr th:only-of-type {\n",
       "        vertical-align: middle;\n",
       "    }\n",
       "\n",
       "    .dataframe tbody tr th {\n",
       "        vertical-align: top;\n",
       "    }\n",
       "\n",
       "    .dataframe thead th {\n",
       "        text-align: right;\n",
       "    }\n",
       "</style>\n",
       "<table border=\"1\" class=\"dataframe\">\n",
       "  <thead>\n",
       "    <tr style=\"text-align: right;\">\n",
       "      <th>indicator</th>\n",
       "      <th>year</th>\n",
       "      <th>country_code</th>\n",
       "      <th>country_name</th>\n",
       "      <th>inflation</th>\n",
       "      <th>r&amp;d</th>\n",
       "    </tr>\n",
       "  </thead>\n",
       "  <tbody>\n",
       "    <tr>\n",
       "      <th>0</th>\n",
       "      <td>1960</td>\n",
       "      <td>AUS</td>\n",
       "      <td>Australia</td>\n",
       "      <td>3.728814</td>\n",
       "      <td>NaN</td>\n",
       "    </tr>\n",
       "    <tr>\n",
       "      <th>1</th>\n",
       "      <td>1960</td>\n",
       "      <td>CAN</td>\n",
       "      <td>Canada</td>\n",
       "      <td>1.358696</td>\n",
       "      <td>NaN</td>\n",
       "    </tr>\n",
       "    <tr>\n",
       "      <th>2</th>\n",
       "      <td>1960</td>\n",
       "      <td>DEU</td>\n",
       "      <td>Germany</td>\n",
       "      <td>1.536612</td>\n",
       "      <td>NaN</td>\n",
       "    </tr>\n",
       "    <tr>\n",
       "      <th>3</th>\n",
       "      <td>1960</td>\n",
       "      <td>FRA</td>\n",
       "      <td>France</td>\n",
       "      <td>4.139936</td>\n",
       "      <td>NaN</td>\n",
       "    </tr>\n",
       "    <tr>\n",
       "      <th>4</th>\n",
       "      <td>1960</td>\n",
       "      <td>GBR</td>\n",
       "      <td>United Kingdom</td>\n",
       "      <td>1.003576</td>\n",
       "      <td>NaN</td>\n",
       "    </tr>\n",
       "  </tbody>\n",
       "</table>\n",
       "</div>"
      ],
      "text/plain": [
       "indicator  year country_code    country_name  inflation  r&d\n",
       "0          1960          AUS       Australia   3.728814  NaN\n",
       "1          1960          CAN          Canada   1.358696  NaN\n",
       "2          1960          DEU         Germany   1.536612  NaN\n",
       "3          1960          FRA          France   4.139936  NaN\n",
       "4          1960          GBR  United Kingdom   1.003576  NaN"
      ]
     },
     "execution_count": 190,
     "metadata": {},
     "output_type": "execute_result"
    }
   ],
   "source": [
    "inflation_rd_dataset_ordered.head()"
   ]
  },
  {
   "cell_type": "code",
   "execution_count": 191,
   "metadata": {},
   "outputs": [
    {
     "data": {
      "text/html": [
       "<div>\n",
       "<style scoped>\n",
       "    .dataframe tbody tr th:only-of-type {\n",
       "        vertical-align: middle;\n",
       "    }\n",
       "\n",
       "    .dataframe tbody tr th {\n",
       "        vertical-align: top;\n",
       "    }\n",
       "\n",
       "    .dataframe thead th {\n",
       "        text-align: right;\n",
       "    }\n",
       "</style>\n",
       "<table border=\"1\" class=\"dataframe\">\n",
       "  <thead>\n",
       "    <tr style=\"text-align: right;\">\n",
       "      <th>indicator</th>\n",
       "      <th>year</th>\n",
       "      <th>inflation</th>\n",
       "      <th>r&amp;d</th>\n",
       "    </tr>\n",
       "  </thead>\n",
       "  <tbody>\n",
       "    <tr>\n",
       "      <th>count</th>\n",
       "      <td>592.000000</td>\n",
       "      <td>592.000000</td>\n",
       "      <td>242.000000</td>\n",
       "    </tr>\n",
       "    <tr>\n",
       "      <th>mean</th>\n",
       "      <td>1993.106419</td>\n",
       "      <td>23.898426</td>\n",
       "      <td>1.992616</td>\n",
       "    </tr>\n",
       "    <tr>\n",
       "      <th>std</th>\n",
       "      <td>18.188536</td>\n",
       "      <td>184.588616</td>\n",
       "      <td>0.769997</td>\n",
       "    </tr>\n",
       "    <tr>\n",
       "      <th>min</th>\n",
       "      <td>1960.000000</td>\n",
       "      <td>-7.633948</td>\n",
       "      <td>0.563240</td>\n",
       "    </tr>\n",
       "    <tr>\n",
       "      <th>25%</th>\n",
       "      <td>1978.000000</td>\n",
       "      <td>1.775090</td>\n",
       "      <td>1.531587</td>\n",
       "    </tr>\n",
       "    <tr>\n",
       "      <th>50%</th>\n",
       "      <td>1994.000000</td>\n",
       "      <td>3.291156</td>\n",
       "      <td>2.054260</td>\n",
       "    </tr>\n",
       "    <tr>\n",
       "      <th>75%</th>\n",
       "      <td>2009.000000</td>\n",
       "      <td>6.378498</td>\n",
       "      <td>2.598885</td>\n",
       "    </tr>\n",
       "    <tr>\n",
       "      <th>max</th>\n",
       "      <td>2023.000000</td>\n",
       "      <td>2947.732772</td>\n",
       "      <td>3.467770</td>\n",
       "    </tr>\n",
       "  </tbody>\n",
       "</table>\n",
       "</div>"
      ],
      "text/plain": [
       "indicator         year    inflation         r&d\n",
       "count       592.000000   592.000000  242.000000\n",
       "mean       1993.106419    23.898426    1.992616\n",
       "std          18.188536   184.588616    0.769997\n",
       "min        1960.000000    -7.633948    0.563240\n",
       "25%        1978.000000     1.775090    1.531587\n",
       "50%        1994.000000     3.291156    2.054260\n",
       "75%        2009.000000     6.378498    2.598885\n",
       "max        2023.000000  2947.732772    3.467770"
      ]
     },
     "execution_count": 191,
     "metadata": {},
     "output_type": "execute_result"
    }
   ],
   "source": [
    "inflation_rd_dataset_ordered.describe()"
   ]
  },
  {
   "cell_type": "code",
   "execution_count": 192,
   "metadata": {
    "scrolled": true
   },
   "outputs": [],
   "source": [
    "# Checking duplicates\n",
    "\n",
    "duplicates = inflation_rd_dataset_ordered.duplicated().sum()"
   ]
  },
  {
   "cell_type": "code",
   "execution_count": 193,
   "metadata": {},
   "outputs": [
    {
     "data": {
      "text/plain": [
       "np.int64(0)"
      ]
     },
     "execution_count": 193,
     "metadata": {},
     "output_type": "execute_result"
    }
   ],
   "source": [
    "duplicates"
   ]
  },
  {
   "cell_type": "code",
   "execution_count": 194,
   "metadata": {},
   "outputs": [],
   "source": [
    "# Checking nulls\n",
    "\n",
    "nulls = inflation_rd_dataset_ordered.isnull().sum()"
   ]
  },
  {
   "cell_type": "code",
   "execution_count": 195,
   "metadata": {},
   "outputs": [
    {
     "data": {
      "text/plain": [
       "indicator\n",
       "year              0\n",
       "country_code      0\n",
       "country_name      0\n",
       "inflation         0\n",
       "r&d             350\n",
       "dtype: int64"
      ]
     },
     "execution_count": 195,
     "metadata": {},
     "output_type": "execute_result"
    }
   ],
   "source": [
    "nulls"
   ]
  },
  {
   "cell_type": "code",
   "execution_count": 196,
   "metadata": {},
   "outputs": [],
   "source": [
    "# Nulls by country (r&d)\n",
    "\n",
    "nulls_by_country = inflation_rd_dataset_ordered[inflation_rd_dataset_ordered[\"r&d\"].isnull()] \\\n",
    "    .groupby(\"country_name\").size().reset_index(name=\"null_count\")"
   ]
  },
  {
   "cell_type": "code",
   "execution_count": 197,
   "metadata": {},
   "outputs": [
    {
     "data": {
      "text/html": [
       "<div>\n",
       "<style scoped>\n",
       "    .dataframe tbody tr th:only-of-type {\n",
       "        vertical-align: middle;\n",
       "    }\n",
       "\n",
       "    .dataframe tbody tr th {\n",
       "        vertical-align: top;\n",
       "    }\n",
       "\n",
       "    .dataframe thead th {\n",
       "        text-align: right;\n",
       "    }\n",
       "</style>\n",
       "<table border=\"1\" class=\"dataframe\">\n",
       "  <thead>\n",
       "    <tr style=\"text-align: right;\">\n",
       "      <th></th>\n",
       "      <th>country_name</th>\n",
       "      <th>null_count</th>\n",
       "    </tr>\n",
       "  </thead>\n",
       "  <tbody>\n",
       "    <tr>\n",
       "      <th>0</th>\n",
       "      <td>Australia</td>\n",
       "      <td>51</td>\n",
       "    </tr>\n",
       "    <tr>\n",
       "      <th>1</th>\n",
       "      <td>Brazil</td>\n",
       "      <td>22</td>\n",
       "    </tr>\n",
       "    <tr>\n",
       "      <th>2</th>\n",
       "      <td>Canada</td>\n",
       "      <td>37</td>\n",
       "    </tr>\n",
       "    <tr>\n",
       "      <th>3</th>\n",
       "      <td>China</td>\n",
       "      <td>11</td>\n",
       "    </tr>\n",
       "    <tr>\n",
       "      <th>4</th>\n",
       "      <td>France</td>\n",
       "      <td>38</td>\n",
       "    </tr>\n",
       "    <tr>\n",
       "      <th>5</th>\n",
       "      <td>Germany</td>\n",
       "      <td>38</td>\n",
       "    </tr>\n",
       "    <tr>\n",
       "      <th>6</th>\n",
       "      <td>India</td>\n",
       "      <td>39</td>\n",
       "    </tr>\n",
       "    <tr>\n",
       "      <th>7</th>\n",
       "      <td>Japan</td>\n",
       "      <td>38</td>\n",
       "    </tr>\n",
       "    <tr>\n",
       "      <th>8</th>\n",
       "      <td>United Kingdom</td>\n",
       "      <td>38</td>\n",
       "    </tr>\n",
       "    <tr>\n",
       "      <th>9</th>\n",
       "      <td>United States</td>\n",
       "      <td>38</td>\n",
       "    </tr>\n",
       "  </tbody>\n",
       "</table>\n",
       "</div>"
      ],
      "text/plain": [
       "     country_name  null_count\n",
       "0       Australia          51\n",
       "1          Brazil          22\n",
       "2          Canada          37\n",
       "3           China          11\n",
       "4          France          38\n",
       "5         Germany          38\n",
       "6           India          39\n",
       "7           Japan          38\n",
       "8  United Kingdom          38\n",
       "9   United States          38"
      ]
     },
     "execution_count": 197,
     "metadata": {},
     "output_type": "execute_result"
    }
   ],
   "source": [
    "nulls_by_country"
   ]
  },
  {
   "cell_type": "code",
   "execution_count": 198,
   "metadata": {},
   "outputs": [],
   "source": [
    "# Nulls by year (r&d)\n",
    "\n",
    "nulls_by_year = inflation_rd_dataset_ordered[inflation_rd_dataset_ordered[\"r&d\"].isnull()] \\\n",
    "    .groupby(\"year\").size().reset_index(name=\"null_count\")"
   ]
  },
  {
   "cell_type": "code",
   "execution_count": 199,
   "metadata": {
    "scrolled": true
   },
   "outputs": [
    {
     "data": {
      "text/html": [
       "<div>\n",
       "<style scoped>\n",
       "    .dataframe tbody tr th:only-of-type {\n",
       "        vertical-align: middle;\n",
       "    }\n",
       "\n",
       "    .dataframe tbody tr th {\n",
       "        vertical-align: top;\n",
       "    }\n",
       "\n",
       "    .dataframe thead th {\n",
       "        text-align: right;\n",
       "    }\n",
       "</style>\n",
       "<table border=\"1\" class=\"dataframe\">\n",
       "  <thead>\n",
       "    <tr style=\"text-align: right;\">\n",
       "      <th></th>\n",
       "      <th>year</th>\n",
       "      <th>null_count</th>\n",
       "    </tr>\n",
       "  </thead>\n",
       "  <tbody>\n",
       "    <tr>\n",
       "      <th>0</th>\n",
       "      <td>1960</td>\n",
       "      <td>8</td>\n",
       "    </tr>\n",
       "    <tr>\n",
       "      <th>1</th>\n",
       "      <td>1961</td>\n",
       "      <td>8</td>\n",
       "    </tr>\n",
       "    <tr>\n",
       "      <th>2</th>\n",
       "      <td>1962</td>\n",
       "      <td>8</td>\n",
       "    </tr>\n",
       "    <tr>\n",
       "      <th>3</th>\n",
       "      <td>1963</td>\n",
       "      <td>8</td>\n",
       "    </tr>\n",
       "    <tr>\n",
       "      <th>4</th>\n",
       "      <td>1964</td>\n",
       "      <td>8</td>\n",
       "    </tr>\n",
       "    <tr>\n",
       "      <th>5</th>\n",
       "      <td>1965</td>\n",
       "      <td>8</td>\n",
       "    </tr>\n",
       "    <tr>\n",
       "      <th>6</th>\n",
       "      <td>1966</td>\n",
       "      <td>8</td>\n",
       "    </tr>\n",
       "    <tr>\n",
       "      <th>7</th>\n",
       "      <td>1967</td>\n",
       "      <td>8</td>\n",
       "    </tr>\n",
       "    <tr>\n",
       "      <th>8</th>\n",
       "      <td>1968</td>\n",
       "      <td>8</td>\n",
       "    </tr>\n",
       "    <tr>\n",
       "      <th>9</th>\n",
       "      <td>1969</td>\n",
       "      <td>8</td>\n",
       "    </tr>\n",
       "    <tr>\n",
       "      <th>10</th>\n",
       "      <td>1970</td>\n",
       "      <td>8</td>\n",
       "    </tr>\n",
       "    <tr>\n",
       "      <th>11</th>\n",
       "      <td>1971</td>\n",
       "      <td>8</td>\n",
       "    </tr>\n",
       "    <tr>\n",
       "      <th>12</th>\n",
       "      <td>1972</td>\n",
       "      <td>8</td>\n",
       "    </tr>\n",
       "    <tr>\n",
       "      <th>13</th>\n",
       "      <td>1973</td>\n",
       "      <td>8</td>\n",
       "    </tr>\n",
       "    <tr>\n",
       "      <th>14</th>\n",
       "      <td>1974</td>\n",
       "      <td>8</td>\n",
       "    </tr>\n",
       "    <tr>\n",
       "      <th>15</th>\n",
       "      <td>1975</td>\n",
       "      <td>8</td>\n",
       "    </tr>\n",
       "    <tr>\n",
       "      <th>16</th>\n",
       "      <td>1976</td>\n",
       "      <td>8</td>\n",
       "    </tr>\n",
       "    <tr>\n",
       "      <th>17</th>\n",
       "      <td>1977</td>\n",
       "      <td>8</td>\n",
       "    </tr>\n",
       "    <tr>\n",
       "      <th>18</th>\n",
       "      <td>1978</td>\n",
       "      <td>8</td>\n",
       "    </tr>\n",
       "    <tr>\n",
       "      <th>19</th>\n",
       "      <td>1979</td>\n",
       "      <td>8</td>\n",
       "    </tr>\n",
       "    <tr>\n",
       "      <th>20</th>\n",
       "      <td>1980</td>\n",
       "      <td>8</td>\n",
       "    </tr>\n",
       "    <tr>\n",
       "      <th>21</th>\n",
       "      <td>1981</td>\n",
       "      <td>9</td>\n",
       "    </tr>\n",
       "    <tr>\n",
       "      <th>22</th>\n",
       "      <td>1982</td>\n",
       "      <td>9</td>\n",
       "    </tr>\n",
       "    <tr>\n",
       "      <th>23</th>\n",
       "      <td>1983</td>\n",
       "      <td>9</td>\n",
       "    </tr>\n",
       "    <tr>\n",
       "      <th>24</th>\n",
       "      <td>1984</td>\n",
       "      <td>9</td>\n",
       "    </tr>\n",
       "    <tr>\n",
       "      <th>25</th>\n",
       "      <td>1985</td>\n",
       "      <td>9</td>\n",
       "    </tr>\n",
       "    <tr>\n",
       "      <th>26</th>\n",
       "      <td>1986</td>\n",
       "      <td>9</td>\n",
       "    </tr>\n",
       "    <tr>\n",
       "      <th>27</th>\n",
       "      <td>1987</td>\n",
       "      <td>10</td>\n",
       "    </tr>\n",
       "    <tr>\n",
       "      <th>28</th>\n",
       "      <td>1988</td>\n",
       "      <td>10</td>\n",
       "    </tr>\n",
       "    <tr>\n",
       "      <th>29</th>\n",
       "      <td>1989</td>\n",
       "      <td>10</td>\n",
       "    </tr>\n",
       "    <tr>\n",
       "      <th>30</th>\n",
       "      <td>1990</td>\n",
       "      <td>10</td>\n",
       "    </tr>\n",
       "    <tr>\n",
       "      <th>31</th>\n",
       "      <td>1991</td>\n",
       "      <td>10</td>\n",
       "    </tr>\n",
       "    <tr>\n",
       "      <th>32</th>\n",
       "      <td>1992</td>\n",
       "      <td>10</td>\n",
       "    </tr>\n",
       "    <tr>\n",
       "      <th>33</th>\n",
       "      <td>1993</td>\n",
       "      <td>10</td>\n",
       "    </tr>\n",
       "    <tr>\n",
       "      <th>34</th>\n",
       "      <td>1994</td>\n",
       "      <td>10</td>\n",
       "    </tr>\n",
       "    <tr>\n",
       "      <th>35</th>\n",
       "      <td>1995</td>\n",
       "      <td>10</td>\n",
       "    </tr>\n",
       "    <tr>\n",
       "      <th>36</th>\n",
       "      <td>1996</td>\n",
       "      <td>1</td>\n",
       "    </tr>\n",
       "    <tr>\n",
       "      <th>37</th>\n",
       "      <td>1997</td>\n",
       "      <td>2</td>\n",
       "    </tr>\n",
       "    <tr>\n",
       "      <th>38</th>\n",
       "      <td>1998</td>\n",
       "      <td>1</td>\n",
       "    </tr>\n",
       "    <tr>\n",
       "      <th>39</th>\n",
       "      <td>1999</td>\n",
       "      <td>2</td>\n",
       "    </tr>\n",
       "    <tr>\n",
       "      <th>40</th>\n",
       "      <td>2001</td>\n",
       "      <td>1</td>\n",
       "    </tr>\n",
       "    <tr>\n",
       "      <th>41</th>\n",
       "      <td>2003</td>\n",
       "      <td>1</td>\n",
       "    </tr>\n",
       "    <tr>\n",
       "      <th>42</th>\n",
       "      <td>2005</td>\n",
       "      <td>1</td>\n",
       "    </tr>\n",
       "    <tr>\n",
       "      <th>43</th>\n",
       "      <td>2007</td>\n",
       "      <td>1</td>\n",
       "    </tr>\n",
       "    <tr>\n",
       "      <th>44</th>\n",
       "      <td>2009</td>\n",
       "      <td>1</td>\n",
       "    </tr>\n",
       "    <tr>\n",
       "      <th>45</th>\n",
       "      <td>2012</td>\n",
       "      <td>1</td>\n",
       "    </tr>\n",
       "    <tr>\n",
       "      <th>46</th>\n",
       "      <td>2014</td>\n",
       "      <td>1</td>\n",
       "    </tr>\n",
       "    <tr>\n",
       "      <th>47</th>\n",
       "      <td>2016</td>\n",
       "      <td>1</td>\n",
       "    </tr>\n",
       "    <tr>\n",
       "      <th>48</th>\n",
       "      <td>2018</td>\n",
       "      <td>1</td>\n",
       "    </tr>\n",
       "    <tr>\n",
       "      <th>49</th>\n",
       "      <td>2020</td>\n",
       "      <td>1</td>\n",
       "    </tr>\n",
       "    <tr>\n",
       "      <th>50</th>\n",
       "      <td>2021</td>\n",
       "      <td>3</td>\n",
       "    </tr>\n",
       "    <tr>\n",
       "      <th>51</th>\n",
       "      <td>2022</td>\n",
       "      <td>9</td>\n",
       "    </tr>\n",
       "    <tr>\n",
       "      <th>52</th>\n",
       "      <td>2023</td>\n",
       "      <td>10</td>\n",
       "    </tr>\n",
       "  </tbody>\n",
       "</table>\n",
       "</div>"
      ],
      "text/plain": [
       "    year  null_count\n",
       "0   1960           8\n",
       "1   1961           8\n",
       "2   1962           8\n",
       "3   1963           8\n",
       "4   1964           8\n",
       "5   1965           8\n",
       "6   1966           8\n",
       "7   1967           8\n",
       "8   1968           8\n",
       "9   1969           8\n",
       "10  1970           8\n",
       "11  1971           8\n",
       "12  1972           8\n",
       "13  1973           8\n",
       "14  1974           8\n",
       "15  1975           8\n",
       "16  1976           8\n",
       "17  1977           8\n",
       "18  1978           8\n",
       "19  1979           8\n",
       "20  1980           8\n",
       "21  1981           9\n",
       "22  1982           9\n",
       "23  1983           9\n",
       "24  1984           9\n",
       "25  1985           9\n",
       "26  1986           9\n",
       "27  1987          10\n",
       "28  1988          10\n",
       "29  1989          10\n",
       "30  1990          10\n",
       "31  1991          10\n",
       "32  1992          10\n",
       "33  1993          10\n",
       "34  1994          10\n",
       "35  1995          10\n",
       "36  1996           1\n",
       "37  1997           2\n",
       "38  1998           1\n",
       "39  1999           2\n",
       "40  2001           1\n",
       "41  2003           1\n",
       "42  2005           1\n",
       "43  2007           1\n",
       "44  2009           1\n",
       "45  2012           1\n",
       "46  2014           1\n",
       "47  2016           1\n",
       "48  2018           1\n",
       "49  2020           1\n",
       "50  2021           3\n",
       "51  2022           9\n",
       "52  2023          10"
      ]
     },
     "execution_count": 199,
     "metadata": {},
     "output_type": "execute_result"
    }
   ],
   "source": [
    "nulls_by_year"
   ]
  },
  {
   "cell_type": "code",
   "execution_count": 200,
   "metadata": {},
   "outputs": [
    {
     "data": {
      "text/html": [
       "<div>\n",
       "<style scoped>\n",
       "    .dataframe tbody tr th:only-of-type {\n",
       "        vertical-align: middle;\n",
       "    }\n",
       "\n",
       "    .dataframe tbody tr th {\n",
       "        vertical-align: top;\n",
       "    }\n",
       "\n",
       "    .dataframe thead th {\n",
       "        text-align: right;\n",
       "    }\n",
       "</style>\n",
       "<table border=\"1\" class=\"dataframe\">\n",
       "  <thead>\n",
       "    <tr style=\"text-align: right;\">\n",
       "      <th></th>\n",
       "      <th>country_name</th>\n",
       "      <th>null_count</th>\n",
       "    </tr>\n",
       "  </thead>\n",
       "  <tbody>\n",
       "    <tr>\n",
       "      <th>0</th>\n",
       "      <td>Australia</td>\n",
       "      <td>51</td>\n",
       "    </tr>\n",
       "    <tr>\n",
       "      <th>1</th>\n",
       "      <td>Brazil</td>\n",
       "      <td>22</td>\n",
       "    </tr>\n",
       "    <tr>\n",
       "      <th>2</th>\n",
       "      <td>Canada</td>\n",
       "      <td>37</td>\n",
       "    </tr>\n",
       "    <tr>\n",
       "      <th>3</th>\n",
       "      <td>China</td>\n",
       "      <td>11</td>\n",
       "    </tr>\n",
       "    <tr>\n",
       "      <th>4</th>\n",
       "      <td>France</td>\n",
       "      <td>38</td>\n",
       "    </tr>\n",
       "    <tr>\n",
       "      <th>5</th>\n",
       "      <td>Germany</td>\n",
       "      <td>38</td>\n",
       "    </tr>\n",
       "    <tr>\n",
       "      <th>6</th>\n",
       "      <td>India</td>\n",
       "      <td>39</td>\n",
       "    </tr>\n",
       "    <tr>\n",
       "      <th>7</th>\n",
       "      <td>Japan</td>\n",
       "      <td>38</td>\n",
       "    </tr>\n",
       "    <tr>\n",
       "      <th>8</th>\n",
       "      <td>United Kingdom</td>\n",
       "      <td>38</td>\n",
       "    </tr>\n",
       "    <tr>\n",
       "      <th>9</th>\n",
       "      <td>United States</td>\n",
       "      <td>38</td>\n",
       "    </tr>\n",
       "  </tbody>\n",
       "</table>\n",
       "</div>"
      ],
      "text/plain": [
       "     country_name  null_count\n",
       "0       Australia          51\n",
       "1          Brazil          22\n",
       "2          Canada          37\n",
       "3           China          11\n",
       "4          France          38\n",
       "5         Germany          38\n",
       "6           India          39\n",
       "7           Japan          38\n",
       "8  United Kingdom          38\n",
       "9   United States          38"
      ]
     },
     "execution_count": 200,
     "metadata": {},
     "output_type": "execute_result"
    }
   ],
   "source": [
    "nulls_by_country"
   ]
  },
  {
   "cell_type": "code",
   "execution_count": 201,
   "metadata": {},
   "outputs": [],
   "source": [
    "# Looking for countries with no nulls from 2000 to 2020\n",
    "\n",
    "df_filtered = inflation_rd_dataset_ordered[\n",
    "    (inflation_rd_dataset_ordered[\"year\"] >= 2000) & \n",
    "    (inflation_rd_dataset_ordered[\"year\"] <= 2020)\n",
    "]\n",
    "countries_no_nulls = df_filtered.groupby(\"country_name\")[\"r&d\"].apply(lambda x: x.notnull().all())\n",
    "countries_no_nulls = countries_no_nulls[countries_no_nulls].index.tolist()"
   ]
  },
  {
   "cell_type": "code",
   "execution_count": 202,
   "metadata": {},
   "outputs": [
    {
     "data": {
      "text/plain": [
       "['Brazil',\n",
       " 'Canada',\n",
       " 'China',\n",
       " 'France',\n",
       " 'Germany',\n",
       " 'India',\n",
       " 'Japan',\n",
       " 'United Kingdom',\n",
       " 'United States']"
      ]
     },
     "execution_count": 202,
     "metadata": {},
     "output_type": "execute_result"
    }
   ],
   "source": [
    "countries_no_nulls"
   ]
  },
  {
   "cell_type": "code",
   "execution_count": 203,
   "metadata": {
    "scrolled": true
   },
   "outputs": [
    {
     "data": {
      "text/html": [
       "<div>\n",
       "<style scoped>\n",
       "    .dataframe tbody tr th:only-of-type {\n",
       "        vertical-align: middle;\n",
       "    }\n",
       "\n",
       "    .dataframe tbody tr th {\n",
       "        vertical-align: top;\n",
       "    }\n",
       "\n",
       "    .dataframe thead th {\n",
       "        text-align: right;\n",
       "    }\n",
       "</style>\n",
       "<table border=\"1\" class=\"dataframe\">\n",
       "  <thead>\n",
       "    <tr style=\"text-align: right;\">\n",
       "      <th></th>\n",
       "      <th>year</th>\n",
       "      <th>null_count</th>\n",
       "    </tr>\n",
       "  </thead>\n",
       "  <tbody>\n",
       "    <tr>\n",
       "      <th>0</th>\n",
       "      <td>1960</td>\n",
       "      <td>1</td>\n",
       "    </tr>\n",
       "    <tr>\n",
       "      <th>1</th>\n",
       "      <td>1961</td>\n",
       "      <td>1</td>\n",
       "    </tr>\n",
       "    <tr>\n",
       "      <th>2</th>\n",
       "      <td>1962</td>\n",
       "      <td>1</td>\n",
       "    </tr>\n",
       "    <tr>\n",
       "      <th>3</th>\n",
       "      <td>1963</td>\n",
       "      <td>1</td>\n",
       "    </tr>\n",
       "    <tr>\n",
       "      <th>4</th>\n",
       "      <td>1964</td>\n",
       "      <td>1</td>\n",
       "    </tr>\n",
       "    <tr>\n",
       "      <th>5</th>\n",
       "      <td>1965</td>\n",
       "      <td>1</td>\n",
       "    </tr>\n",
       "    <tr>\n",
       "      <th>6</th>\n",
       "      <td>1966</td>\n",
       "      <td>1</td>\n",
       "    </tr>\n",
       "    <tr>\n",
       "      <th>7</th>\n",
       "      <td>1967</td>\n",
       "      <td>1</td>\n",
       "    </tr>\n",
       "    <tr>\n",
       "      <th>8</th>\n",
       "      <td>1968</td>\n",
       "      <td>1</td>\n",
       "    </tr>\n",
       "    <tr>\n",
       "      <th>9</th>\n",
       "      <td>1969</td>\n",
       "      <td>1</td>\n",
       "    </tr>\n",
       "    <tr>\n",
       "      <th>10</th>\n",
       "      <td>1970</td>\n",
       "      <td>1</td>\n",
       "    </tr>\n",
       "    <tr>\n",
       "      <th>11</th>\n",
       "      <td>1971</td>\n",
       "      <td>1</td>\n",
       "    </tr>\n",
       "    <tr>\n",
       "      <th>12</th>\n",
       "      <td>1972</td>\n",
       "      <td>1</td>\n",
       "    </tr>\n",
       "    <tr>\n",
       "      <th>13</th>\n",
       "      <td>1973</td>\n",
       "      <td>1</td>\n",
       "    </tr>\n",
       "    <tr>\n",
       "      <th>14</th>\n",
       "      <td>1974</td>\n",
       "      <td>1</td>\n",
       "    </tr>\n",
       "    <tr>\n",
       "      <th>15</th>\n",
       "      <td>1975</td>\n",
       "      <td>1</td>\n",
       "    </tr>\n",
       "    <tr>\n",
       "      <th>16</th>\n",
       "      <td>1976</td>\n",
       "      <td>1</td>\n",
       "    </tr>\n",
       "    <tr>\n",
       "      <th>17</th>\n",
       "      <td>1977</td>\n",
       "      <td>1</td>\n",
       "    </tr>\n",
       "    <tr>\n",
       "      <th>18</th>\n",
       "      <td>1978</td>\n",
       "      <td>1</td>\n",
       "    </tr>\n",
       "    <tr>\n",
       "      <th>19</th>\n",
       "      <td>1979</td>\n",
       "      <td>1</td>\n",
       "    </tr>\n",
       "    <tr>\n",
       "      <th>20</th>\n",
       "      <td>1980</td>\n",
       "      <td>1</td>\n",
       "    </tr>\n",
       "    <tr>\n",
       "      <th>21</th>\n",
       "      <td>1981</td>\n",
       "      <td>1</td>\n",
       "    </tr>\n",
       "    <tr>\n",
       "      <th>22</th>\n",
       "      <td>1982</td>\n",
       "      <td>1</td>\n",
       "    </tr>\n",
       "    <tr>\n",
       "      <th>23</th>\n",
       "      <td>1983</td>\n",
       "      <td>1</td>\n",
       "    </tr>\n",
       "    <tr>\n",
       "      <th>24</th>\n",
       "      <td>1984</td>\n",
       "      <td>1</td>\n",
       "    </tr>\n",
       "    <tr>\n",
       "      <th>25</th>\n",
       "      <td>1985</td>\n",
       "      <td>1</td>\n",
       "    </tr>\n",
       "    <tr>\n",
       "      <th>26</th>\n",
       "      <td>1986</td>\n",
       "      <td>1</td>\n",
       "    </tr>\n",
       "    <tr>\n",
       "      <th>27</th>\n",
       "      <td>1987</td>\n",
       "      <td>1</td>\n",
       "    </tr>\n",
       "    <tr>\n",
       "      <th>28</th>\n",
       "      <td>1988</td>\n",
       "      <td>1</td>\n",
       "    </tr>\n",
       "    <tr>\n",
       "      <th>29</th>\n",
       "      <td>1989</td>\n",
       "      <td>1</td>\n",
       "    </tr>\n",
       "    <tr>\n",
       "      <th>30</th>\n",
       "      <td>1990</td>\n",
       "      <td>1</td>\n",
       "    </tr>\n",
       "    <tr>\n",
       "      <th>31</th>\n",
       "      <td>1991</td>\n",
       "      <td>1</td>\n",
       "    </tr>\n",
       "    <tr>\n",
       "      <th>32</th>\n",
       "      <td>1992</td>\n",
       "      <td>1</td>\n",
       "    </tr>\n",
       "    <tr>\n",
       "      <th>33</th>\n",
       "      <td>1993</td>\n",
       "      <td>1</td>\n",
       "    </tr>\n",
       "    <tr>\n",
       "      <th>34</th>\n",
       "      <td>1994</td>\n",
       "      <td>1</td>\n",
       "    </tr>\n",
       "    <tr>\n",
       "      <th>35</th>\n",
       "      <td>1995</td>\n",
       "      <td>1</td>\n",
       "    </tr>\n",
       "    <tr>\n",
       "      <th>36</th>\n",
       "      <td>1997</td>\n",
       "      <td>1</td>\n",
       "    </tr>\n",
       "    <tr>\n",
       "      <th>37</th>\n",
       "      <td>1999</td>\n",
       "      <td>1</td>\n",
       "    </tr>\n",
       "    <tr>\n",
       "      <th>38</th>\n",
       "      <td>2001</td>\n",
       "      <td>1</td>\n",
       "    </tr>\n",
       "    <tr>\n",
       "      <th>39</th>\n",
       "      <td>2003</td>\n",
       "      <td>1</td>\n",
       "    </tr>\n",
       "    <tr>\n",
       "      <th>40</th>\n",
       "      <td>2005</td>\n",
       "      <td>1</td>\n",
       "    </tr>\n",
       "    <tr>\n",
       "      <th>41</th>\n",
       "      <td>2007</td>\n",
       "      <td>1</td>\n",
       "    </tr>\n",
       "    <tr>\n",
       "      <th>42</th>\n",
       "      <td>2009</td>\n",
       "      <td>1</td>\n",
       "    </tr>\n",
       "    <tr>\n",
       "      <th>43</th>\n",
       "      <td>2012</td>\n",
       "      <td>1</td>\n",
       "    </tr>\n",
       "    <tr>\n",
       "      <th>44</th>\n",
       "      <td>2014</td>\n",
       "      <td>1</td>\n",
       "    </tr>\n",
       "    <tr>\n",
       "      <th>45</th>\n",
       "      <td>2016</td>\n",
       "      <td>1</td>\n",
       "    </tr>\n",
       "    <tr>\n",
       "      <th>46</th>\n",
       "      <td>2018</td>\n",
       "      <td>1</td>\n",
       "    </tr>\n",
       "    <tr>\n",
       "      <th>47</th>\n",
       "      <td>2020</td>\n",
       "      <td>1</td>\n",
       "    </tr>\n",
       "    <tr>\n",
       "      <th>48</th>\n",
       "      <td>2021</td>\n",
       "      <td>1</td>\n",
       "    </tr>\n",
       "    <tr>\n",
       "      <th>49</th>\n",
       "      <td>2022</td>\n",
       "      <td>1</td>\n",
       "    </tr>\n",
       "    <tr>\n",
       "      <th>50</th>\n",
       "      <td>2023</td>\n",
       "      <td>1</td>\n",
       "    </tr>\n",
       "  </tbody>\n",
       "</table>\n",
       "</div>"
      ],
      "text/plain": [
       "    year  null_count\n",
       "0   1960           1\n",
       "1   1961           1\n",
       "2   1962           1\n",
       "3   1963           1\n",
       "4   1964           1\n",
       "5   1965           1\n",
       "6   1966           1\n",
       "7   1967           1\n",
       "8   1968           1\n",
       "9   1969           1\n",
       "10  1970           1\n",
       "11  1971           1\n",
       "12  1972           1\n",
       "13  1973           1\n",
       "14  1974           1\n",
       "15  1975           1\n",
       "16  1976           1\n",
       "17  1977           1\n",
       "18  1978           1\n",
       "19  1979           1\n",
       "20  1980           1\n",
       "21  1981           1\n",
       "22  1982           1\n",
       "23  1983           1\n",
       "24  1984           1\n",
       "25  1985           1\n",
       "26  1986           1\n",
       "27  1987           1\n",
       "28  1988           1\n",
       "29  1989           1\n",
       "30  1990           1\n",
       "31  1991           1\n",
       "32  1992           1\n",
       "33  1993           1\n",
       "34  1994           1\n",
       "35  1995           1\n",
       "36  1997           1\n",
       "37  1999           1\n",
       "38  2001           1\n",
       "39  2003           1\n",
       "40  2005           1\n",
       "41  2007           1\n",
       "42  2009           1\n",
       "43  2012           1\n",
       "44  2014           1\n",
       "45  2016           1\n",
       "46  2018           1\n",
       "47  2020           1\n",
       "48  2021           1\n",
       "49  2022           1\n",
       "50  2023           1"
      ]
     },
     "execution_count": 203,
     "metadata": {},
     "output_type": "execute_result"
    }
   ],
   "source": [
    "# Exploring nulls for Australia\n",
    "\n",
    "# Filtrar Australia\n",
    "australia_nulls = inflation_rd_dataset_ordered[\n",
    "    (inflation_rd_dataset_ordered[\"country_name\"] == \"Australia\") &\n",
    "    (inflation_rd_dataset_ordered[\"r&d\"].isnull())\n",
    "][\"year\"]\n",
    "\n",
    "# Convertir a dataframe con conteo por año (aunque normalmente habrá solo 0 o 1 null por año)\n",
    "nulls_by_year_australia = australia_nulls.value_counts().sort_index().reset_index()\n",
    "nulls_by_year_australia.columns = [\"year\", \"null_count\"]\n",
    "\n",
    "nulls_by_year_australia"
   ]
  },
  {
   "cell_type": "markdown",
   "metadata": {},
   "source": [
    "I can't use R&D data for Australia due to the nulls, but we can proceed with the other 9 countries for the analysis."
   ]
  },
  {
   "cell_type": "code",
   "execution_count": 204,
   "metadata": {},
   "outputs": [],
   "source": [
    "# Creating a new subset without Australia\n",
    "\n",
    "inflation_rd_subset_without_australia = inflation_rd_dataset_ordered[\n",
    "    inflation_rd_dataset_ordered[\"country_name\"] != \"Australia\"\n",
    "].reset_index(drop=True)"
   ]
  },
  {
   "cell_type": "code",
   "execution_count": 205,
   "metadata": {},
   "outputs": [],
   "source": [
    "# Changing Year datatype\n",
    "\n",
    "inflation_rd_subset_without_australia['year'] = inflation_rd_subset_without_australia['year'].astype(int)"
   ]
  },
  {
   "cell_type": "code",
   "execution_count": 206,
   "metadata": {},
   "outputs": [
    {
     "data": {
      "text/html": [
       "<div>\n",
       "<style scoped>\n",
       "    .dataframe tbody tr th:only-of-type {\n",
       "        vertical-align: middle;\n",
       "    }\n",
       "\n",
       "    .dataframe tbody tr th {\n",
       "        vertical-align: top;\n",
       "    }\n",
       "\n",
       "    .dataframe thead th {\n",
       "        text-align: right;\n",
       "    }\n",
       "</style>\n",
       "<table border=\"1\" class=\"dataframe\">\n",
       "  <thead>\n",
       "    <tr style=\"text-align: right;\">\n",
       "      <th>indicator</th>\n",
       "      <th>year</th>\n",
       "      <th>inflation</th>\n",
       "      <th>r&amp;d</th>\n",
       "    </tr>\n",
       "  </thead>\n",
       "  <tbody>\n",
       "    <tr>\n",
       "      <th>count</th>\n",
       "      <td>528.000000</td>\n",
       "      <td>528.000000</td>\n",
       "      <td>229.000000</td>\n",
       "    </tr>\n",
       "    <tr>\n",
       "      <th>mean</th>\n",
       "      <td>1993.301136</td>\n",
       "      <td>26.225110</td>\n",
       "      <td>1.995083</td>\n",
       "    </tr>\n",
       "    <tr>\n",
       "      <th>std</th>\n",
       "      <td>18.144012</td>\n",
       "      <td>195.343376</td>\n",
       "      <td>0.788651</td>\n",
       "    </tr>\n",
       "    <tr>\n",
       "      <th>min</th>\n",
       "      <td>1960.000000</td>\n",
       "      <td>-7.633948</td>\n",
       "      <td>0.563240</td>\n",
       "    </tr>\n",
       "    <tr>\n",
       "      <th>25%</th>\n",
       "      <td>1978.000000</td>\n",
       "      <td>1.747321</td>\n",
       "      <td>1.373690</td>\n",
       "    </tr>\n",
       "    <tr>\n",
       "      <th>50%</th>\n",
       "      <td>1994.000000</td>\n",
       "      <td>3.285243</td>\n",
       "      <td>2.061170</td>\n",
       "    </tr>\n",
       "    <tr>\n",
       "      <th>75%</th>\n",
       "      <td>2009.000000</td>\n",
       "      <td>6.357128</td>\n",
       "      <td>2.637150</td>\n",
       "    </tr>\n",
       "    <tr>\n",
       "      <th>max</th>\n",
       "      <td>2023.000000</td>\n",
       "      <td>2947.732772</td>\n",
       "      <td>3.467770</td>\n",
       "    </tr>\n",
       "  </tbody>\n",
       "</table>\n",
       "</div>"
      ],
      "text/plain": [
       "indicator         year    inflation         r&d\n",
       "count       528.000000   528.000000  229.000000\n",
       "mean       1993.301136    26.225110    1.995083\n",
       "std          18.144012   195.343376    0.788651\n",
       "min        1960.000000    -7.633948    0.563240\n",
       "25%        1978.000000     1.747321    1.373690\n",
       "50%        1994.000000     3.285243    2.061170\n",
       "75%        2009.000000     6.357128    2.637150\n",
       "max        2023.000000  2947.732772    3.467770"
      ]
     },
     "execution_count": 206,
     "metadata": {},
     "output_type": "execute_result"
    }
   ],
   "source": [
    "# Checking outliers\n",
    "\n",
    "inflation_rd_subset_without_australia.describe()"
   ]
  },
  {
   "cell_type": "code",
   "execution_count": 207,
   "metadata": {},
   "outputs": [],
   "source": [
    "# Creating a new subset with data just from 2000 to 2020\n",
    "\n",
    "inflation_rd_subset_without_australia = inflation_rd_subset[\n",
    "    (inflation_rd_subset[\"year\"] >= 2000) & \n",
    "    (inflation_rd_subset[\"year\"] <= 2020)\n",
    "].reset_index(drop=True)"
   ]
  },
  {
   "cell_type": "code",
   "execution_count": 208,
   "metadata": {},
   "outputs": [
    {
     "data": {
      "text/html": [
       "<div>\n",
       "<style scoped>\n",
       "    .dataframe tbody tr th:only-of-type {\n",
       "        vertical-align: middle;\n",
       "    }\n",
       "\n",
       "    .dataframe tbody tr th {\n",
       "        vertical-align: top;\n",
       "    }\n",
       "\n",
       "    .dataframe thead th {\n",
       "        text-align: right;\n",
       "    }\n",
       "</style>\n",
       "<table border=\"1\" class=\"dataframe\">\n",
       "  <thead>\n",
       "    <tr style=\"text-align: right;\">\n",
       "      <th>indicator</th>\n",
       "      <th>year</th>\n",
       "      <th>country_code</th>\n",
       "      <th>country_name</th>\n",
       "      <th>inflation</th>\n",
       "      <th>r&amp;d</th>\n",
       "    </tr>\n",
       "  </thead>\n",
       "  <tbody>\n",
       "    <tr>\n",
       "      <th>0</th>\n",
       "      <td>2000</td>\n",
       "      <td>BRA</td>\n",
       "      <td>Brazil</td>\n",
       "      <td>7.044141</td>\n",
       "      <td>1.04751</td>\n",
       "    </tr>\n",
       "    <tr>\n",
       "      <th>1</th>\n",
       "      <td>2000</td>\n",
       "      <td>CAN</td>\n",
       "      <td>Canada</td>\n",
       "      <td>2.719440</td>\n",
       "      <td>1.85848</td>\n",
       "    </tr>\n",
       "    <tr>\n",
       "      <th>2</th>\n",
       "      <td>2000</td>\n",
       "      <td>CHN</td>\n",
       "      <td>China</td>\n",
       "      <td>0.347811</td>\n",
       "      <td>0.89316</td>\n",
       "    </tr>\n",
       "    <tr>\n",
       "      <th>3</th>\n",
       "      <td>2000</td>\n",
       "      <td>DEU</td>\n",
       "      <td>Germany</td>\n",
       "      <td>1.440268</td>\n",
       "      <td>2.40982</td>\n",
       "    </tr>\n",
       "    <tr>\n",
       "      <th>4</th>\n",
       "      <td>2000</td>\n",
       "      <td>FRA</td>\n",
       "      <td>France</td>\n",
       "      <td>1.675960</td>\n",
       "      <td>2.09346</td>\n",
       "    </tr>\n",
       "  </tbody>\n",
       "</table>\n",
       "</div>"
      ],
      "text/plain": [
       "indicator  year country_code country_name  inflation      r&d\n",
       "0          2000          BRA       Brazil   7.044141  1.04751\n",
       "1          2000          CAN       Canada   2.719440  1.85848\n",
       "2          2000          CHN        China   0.347811  0.89316\n",
       "3          2000          DEU      Germany   1.440268  2.40982\n",
       "4          2000          FRA       France   1.675960  2.09346"
      ]
     },
     "execution_count": 208,
     "metadata": {},
     "output_type": "execute_result"
    }
   ],
   "source": [
    "inflation_rd_subset_without_australia.head()"
   ]
  },
  {
   "cell_type": "code",
   "execution_count": 209,
   "metadata": {},
   "outputs": [
    {
     "data": {
      "text/html": [
       "<div>\n",
       "<style scoped>\n",
       "    .dataframe tbody tr th:only-of-type {\n",
       "        vertical-align: middle;\n",
       "    }\n",
       "\n",
       "    .dataframe tbody tr th {\n",
       "        vertical-align: top;\n",
       "    }\n",
       "\n",
       "    .dataframe thead th {\n",
       "        text-align: right;\n",
       "    }\n",
       "</style>\n",
       "<table border=\"1\" class=\"dataframe\">\n",
       "  <thead>\n",
       "    <tr style=\"text-align: right;\">\n",
       "      <th>indicator</th>\n",
       "      <th>year</th>\n",
       "      <th>inflation</th>\n",
       "      <th>r&amp;d</th>\n",
       "    </tr>\n",
       "  </thead>\n",
       "  <tbody>\n",
       "    <tr>\n",
       "      <th>count</th>\n",
       "      <td>189.000000</td>\n",
       "      <td>189.000000</td>\n",
       "      <td>189.000000</td>\n",
       "    </tr>\n",
       "    <tr>\n",
       "      <th>mean</th>\n",
       "      <td>2010.000000</td>\n",
       "      <td>2.606136</td>\n",
       "      <td>2.007288</td>\n",
       "    </tr>\n",
       "    <tr>\n",
       "      <th>std</th>\n",
       "      <td>6.071384</td>\n",
       "      <td>2.517319</td>\n",
       "      <td>0.786576</td>\n",
       "    </tr>\n",
       "    <tr>\n",
       "      <th>min</th>\n",
       "      <td>2000.000000</td>\n",
       "      <td>-1.352837</td>\n",
       "      <td>0.646360</td>\n",
       "    </tr>\n",
       "    <tr>\n",
       "      <th>25%</th>\n",
       "      <td>2005.000000</td>\n",
       "      <td>1.127603</td>\n",
       "      <td>1.368540</td>\n",
       "    </tr>\n",
       "    <tr>\n",
       "      <th>50%</th>\n",
       "      <td>2010.000000</td>\n",
       "      <td>1.983857</td>\n",
       "      <td>2.051510</td>\n",
       "    </tr>\n",
       "    <tr>\n",
       "      <th>75%</th>\n",
       "      <td>2015.000000</td>\n",
       "      <td>3.392747</td>\n",
       "      <td>2.672840</td>\n",
       "    </tr>\n",
       "    <tr>\n",
       "      <th>max</th>\n",
       "      <td>2020.000000</td>\n",
       "      <td>14.714920</td>\n",
       "      <td>3.467770</td>\n",
       "    </tr>\n",
       "  </tbody>\n",
       "</table>\n",
       "</div>"
      ],
      "text/plain": [
       "indicator         year   inflation         r&d\n",
       "count       189.000000  189.000000  189.000000\n",
       "mean       2010.000000    2.606136    2.007288\n",
       "std           6.071384    2.517319    0.786576\n",
       "min        2000.000000   -1.352837    0.646360\n",
       "25%        2005.000000    1.127603    1.368540\n",
       "50%        2010.000000    1.983857    2.051510\n",
       "75%        2015.000000    3.392747    2.672840\n",
       "max        2020.000000   14.714920    3.467770"
      ]
     },
     "execution_count": 209,
     "metadata": {},
     "output_type": "execute_result"
    }
   ],
   "source": [
    "inflation_rd_subset_without_australia.describe()"
   ]
  },
  {
   "cell_type": "markdown",
   "metadata": {},
   "source": [
    "Initial Analysis and Observations:\n",
    "\n",
    "- The dataset has been cleaned and standardized for 9 of the 10 countries, excluding Australia due to a high number of missing values in the R&D column. Australia can still be considered for inflation analysis if needed.\n",
    "\n",
    "- Data spans the period from 2000 to 2020 to avoid nulls\n",
    "\n",
    "Inflation Data:\n",
    "\n",
    "- Mean inflation is 2.6%, which aligns with expected values for the selected countries.\n",
    "\n",
    "- Standard deviation is moderate at 2.5%, indicating reasonable variability.\n",
    "\n",
    "- Min value of -1.3% likely reflects deflation in certain country-year observations.\n",
    "\n",
    "- Max value of 14.7% suggests the presence of outliers that should be examined in subsequent steps.\n",
    "\n",
    "R&D Data:\n",
    "\n",
    "- Mean is approximately 2%, consistent across countries.\n",
    "\n",
    "- No extreme outliers are immediately apparent, though a deeper country-by-country inspection may be useful."
   ]
  },
  {
   "cell_type": "markdown",
   "metadata": {},
   "source": [
    "## Visualizing data"
   ]
  },
  {
   "cell_type": "code",
   "execution_count": 210,
   "metadata": {},
   "outputs": [
    {
     "data": {
      "image/png": "[encoded data removed]",
      "text/plain": [
       "<Figure size 1800x700 with 1 Axes>"
      ]
     },
     "metadata": {},
     "output_type": "display_data"
    }
   ],
   "source": [
    "# Evolution of Inflation by country\n",
    "\n",
    "sns.lineplot(data=inflation_rd_subset_without_australia, x='year', y='inflation', hue='country_name')\n",
    "plt.legend(bbox_to_anchor=(1.05, 1), loc='upper left')  # Coloca la leyenda fuera a la derecha\n",
    "plt.show()"
   ]
  },
  {
   "cell_type": "code",
   "execution_count": 211,
   "metadata": {},
   "outputs": [
    {
     "data": {
      "image/png": "[encoded data removed]",
      "text/plain": [
       "<Figure size 1800x700 with 1 Axes>"
      ]
     },
     "metadata": {},
     "output_type": "display_data"
    }
   ],
   "source": [
    "# Evolution of R&D by country\n",
    "\n",
    "sns.lineplot(data=inflation_rd_subset_without_australia, x='year', y='r&d', hue='country_name')\n",
    "plt.legend(bbox_to_anchor=(1.05, 1), loc='upper left')\n",
    "plt.show()"
   ]
  },
  {
   "cell_type": "code",
   "execution_count": 212,
   "metadata": {},
   "outputs": [
    {
     "data": {
      "application/vnd.plotly.v1+json": {
       "config": {
        "plotlyServerURL": "https://plot.ly"
       },
       "data": [
        {
         "alignmentgroup": "True",
         "boxpoints": "all",
         "customdata": [
          [
           "Brazil",
           2000
          ],
          [
           "Canada",
           2000
          ],
          [
           "China",
           2000
          ],
          [
           "Germany",
           2000
          ],
          [
           "France",
           2000
          ],
          [
           "United Kingdom",
           2000
          ],
          [
           "India",
           2000
          ],
          [
           "Japan",
           2000
          ],
          [
           "United States",
           2000
          ],
          [
           "Brazil",
           2001
          ],
          [
           "Canada",
           2001
          ],
          [
           "China",
           2001
          ],
          [
           "Germany",
           2001
          ],
          [
           "France",
           2001
          ],
          [
           "United Kingdom",
           2001
          ],
          [
           "India",
           2001
          ],
          [
           "Japan",
           2001
          ],
          [
           "United States",
           2001
          ],
          [
           "Brazil",
           2002
          ],
          [
           "Canada",
           2002
          ],
          [
           "China",
           2002
          ],
          [
           "Germany",
           2002
          ],
          [
           "France",
           2002
          ],
          [
           "United Kingdom",
           2002
          ],
          [
           "India",
           2002
          ],
          [
           "Japan",
           2002
          ],
          [
           "United States",
           2002
          ],
          [
           "Brazil",
           2003
          ],
          [
           "Canada",
           2003
          ],
          [
           "China",
           2003
          ],
          [
           "Germany",
           2003
          ],
          [
           "France",
           2003
          ],
          [
           "United Kingdom",
           2003
          ],
          [
           "India",
           2003
          ],
          [
           "Japan",
           2003
          ],
          [
           "United States",
           2003
          ],
          [
           "Brazil",
           2004
          ],
          [
           "Canada",
           2004
          ],
          [
           "China",
           2004
          ],
          [
           "Germany",
           2004
          ],
          [
           "France",
           2004
          ],
          [
           "United Kingdom",
           2004
          ],
          [
           "India",
           2004
          ],
          [
           "Japan",
           2004
          ],
          [
           "United States",
           2004
          ],
          [
           "Brazil",
           2005
          ],
          [
           "Canada",
           2005
          ],
          [
           "China",
           2005
          ],
          [
           "Germany",
           2005
          ],
          [
           "France",
           2005
          ],
          [
           "United Kingdom",
           2005
          ],
          [
           "India",
           2005
          ],
          [
           "Japan",
           2005
          ],
          [
           "United States",
           2005
          ],
          [
           "Brazil",
           2006
          ],
          [
           "Canada",
           2006
          ],
          [
           "China",
           2006
          ],
          [
           "Germany",
           2006
          ],
          [
           "France",
           2006
          ],
          [
           "United Kingdom",
           2006
          ],
          [
           "India",
           2006
          ],
          [
           "Japan",
           2006
          ],
          [
           "United States",
           2006
          ],
          [
           "Brazil",
           2007
          ],
          [
           "Canada",
           2007
          ],
          [
           "China",
           2007
          ],
          [
           "Germany",
           2007
          ],
          [
           "France",
           2007
          ],
          [
           "United Kingdom",
           2007
          ],
          [
           "India",
           2007
          ],
          [
           "Japan",
           2007
          ],
          [
           "United States",
           2007
          ],
          [
           "Brazil",
           2008
          ],
          [
           "Canada",
           2008
          ],
          [
           "China",
           2008
          ],
          [
           "Germany",
           2008
          ],
          [
           "France",
           2008
          ],
          [
           "United Kingdom",
           2008
          ],
          [
           "India",
           2008
          ],
          [
           "Japan",
           2008
          ],
          [
           "United States",
           2008
          ],
          [
           "Brazil",
           2009
          ],
          [
           "Canada",
           2009
          ],
          [
           "China",
           2009
          ],
          [
           "Germany",
           2009
          ],
          [
           "France",
           2009
          ],
          [
           "United Kingdom",
           2009
          ],
          [
           "India",
           2009
          ],
          [
           "Japan",
           2009
          ],
          [
           "United States",
           2009
          ],
          [
           "Brazil",
           2010
          ],
          [
           "Canada",
           2010
          ],
          [
           "China",
           2010
          ],
          [
           "Germany",
           2010
          ],
          [
           "France",
           2010
          ],
          [
           "United Kingdom",
           2010
          ],
          [
           "India",
           2010
          ],
          [
           "Japan",
           2010
          ],
          [
           "United States",
           2010
          ],
          [
           "Brazil",
           2011
          ],
          [
           "Canada",
           2011
          ],
          [
           "China",
           2011
          ],
          [
           "Germany",
           2011
          ],
          [
           "France",
           2011
          ],
          [
           "United Kingdom",
           2011
          ],
          [
           "India",
           2011
          ],
          [
           "Japan",
           2011
          ],
          [
           "United States",
           2011
          ],
          [
           "Brazil",
           2012
          ],
          [
           "Canada",
           2012
          ],
          [
           "China",
           2012
          ],
          [
           "Germany",
           2012
          ],
          [
           "France",
           2012
          ],
          [
           "United Kingdom",
           2012
          ],
          [
           "India",
           2012
          ],
          [
           "Japan",
           2012
          ],
          [
           "United States",
           2012
          ],
          [
           "Brazil",
           2013
          ],
          [
           "Canada",
           2013
          ],
          [
           "China",
           2013
          ],
          [
           "Germany",
           2013
          ],
          [
           "France",
           2013
          ],
          [
           "United Kingdom",
           2013
          ],
          [
           "India",
           2013
          ],
          [
           "Japan",
           2013
          ],
          [
           "United States",
           2013
          ],
          [
           "Brazil",
           2014
          ],
          [
           "Canada",
           2014
          ],
          [
           "China",
           2014
          ],
          [
           "Germany",
           2014
          ],
          [
           "France",
           2014
          ],
          [
           "United Kingdom",
           2014
          ],
          [
           "India",
           2014
          ],
          [
           "Japan",
           2014
          ],
          [
           "United States",
           2014
          ],
          [
           "Brazil",
           2015
          ],
          [
           "Canada",
           2015
          ],
          [
           "China",
           2015
          ],
          [
           "Germany",
           2015
          ],
          [
           "France",
           2015
          ],
          [
           "United Kingdom",
           2015
          ],
          [
           "India",
           2015
          ],
          [
           "Japan",
           2015
          ],
          [
           "United States",
           2015
          ],
          [
           "Brazil",
           2016
          ],
          [
           "Canada",
           2016
          ],
          [
           "China",
           2016
          ],
          [
           "Germany",
           2016
          ],
          [
           "France",
           2016
          ],
          [
           "United Kingdom",
           2016
          ],
          [
           "India",
           2016
          ],
          [
           "Japan",
           2016
          ],
          [
           "United States",
           2016
          ],
          [
           "Brazil",
           2017
          ],
          [
           "Canada",
           2017
          ],
          [
           "China",
           2017
          ],
          [
           "Germany",
           2017
          ],
          [
           "France",
           2017
          ],
          [
           "United Kingdom",
           2017
          ],
          [
           "India",
           2017
          ],
          [
           "Japan",
           2017
          ],
          [
           "United States",
           2017
          ],
          [
           "Brazil",
           2018
          ],
          [
           "Canada",
           2018
          ],
          [
           "China",
           2018
          ],
          [
           "Germany",
           2018
          ],
          [
           "France",
           2018
          ],
          [
           "United Kingdom",
           2018
          ],
          [
           "India",
           2018
          ],
          [
           "Japan",
           2018
          ],
          [
           "United States",
           2018
          ],
          [
           "Brazil",
           2019
          ],
          [
           "Canada",
           2019
          ],
          [
           "China",
           2019
          ],
          [
           "Germany",
           2019
          ],
          [
           "France",
           2019
          ],
          [
           "United Kingdom",
           2019
          ],
          [
           "India",
           2019
          ],
          [
           "Japan",
           2019
          ],
          [
           "United States",
           2019
          ],
          [
           "Brazil",
           2020
          ],
          [
           "Canada",
           2020
          ],
          [
           "China",
           2020
          ],
          [
           "Germany",
           2020
          ],
          [
           "France",
           2020
          ],
          [
           "United Kingdom",
           2020
          ],
          [
           "India",
           2020
          ],
          [
           "Japan",
           2020
          ],
          [
           "United States",
           2020
          ]
         ],
         "hovertemplate": "indicator=%{x}<br>value=%{y}<br>country_name=%{customdata[0]}<br>year=%{customdata[1]}<extra></extra>",
         "legendgroup": "inflation",
         "marker": {
          "color": "#636efa"
         },
         "name": "inflation",
         "notched": false,
         "offsetgroup": "inflation",
         "orientation": "v",
         "showlegend": true,
         "type": "box",
         "x": [
          "inflation",
          "inflation",
          "inflation",
          "inflation",
          "inflation",
          "inflation",
          "inflation",
          "inflation",
          "inflation",
          "inflation",
          "inflation",
          "inflation",
          "inflation",
          "inflation",
          "inflation",
          "inflation",
          "inflation",
          "inflation",
          "inflation",
          "inflation",
          "inflation",
          "inflation",
          "inflation",
          "inflation",
          "inflation",
          "inflation",
          "inflation",
          "inflation",
          "inflation",
          "inflation",
          "inflation",
          "inflation",
          "inflation",
          "inflation",
          "inflation",
          "inflation",
          "inflation",
          "inflation",
          "inflation",
          "inflation",
          "inflation",
          "inflation",
          "inflation",
          "inflation",
          "inflation",
          "inflation",
          "inflation",
          "inflation",
          "inflation",
          "inflation",
          "inflation",
          "inflation",
          "inflation",
          "inflation",
          "inflation",
          "inflation",
          "inflation",
          "inflation",
          "inflation",
          "inflation",
          "inflation",
          "inflation",
          "inflation",
          "inflation",
          "inflation",
          "inflation",
          "inflation",
          "inflation",
          "inflation",
          "inflation",
          "inflation",
          "inflation",
          "inflation",
          "inflation",
          "inflation",
          "inflation",
          "inflation",
          "inflation",
          "inflation",
          "inflation",
          "inflation",
          "inflation",
          "inflation",
          "inflation",
          "inflation",
          "inflation",
          "inflation",
          "inflation",
          "inflation",
          "inflation",
          "inflation",
          "inflation",
          "inflation",
          "inflation",
          "inflation",
          "inflation",
          "inflation",
          "inflation",
          "inflation",
          "inflation",
          "inflation",
          "inflation",
          "inflation",
          "inflation",
          "inflation",
          "inflation",
          "inflation",
          "inflation",
          "inflation",
          "inflation",
          "inflation",
          "inflation",
          "inflation",
          "inflation",
          "inflation",
          "inflation",
          "inflation",
          "inflation",
          "inflation",
          "inflation",
          "inflation",
          "inflation",
          "inflation",
          "inflation",
          "inflation",
          "inflation",
          "inflation",
          "inflation",
          "inflation",
          "inflation",
          "inflation",
          "inflation",
          "inflation",
          "inflation",
          "inflation",
          "inflation",
          "inflation",
          "inflation",
          "inflation",
          "inflation",
          "inflation",
          "inflation",
          "inflation",
          "inflation",
          "inflation",
          "inflation",
          "inflation",
          "inflation",
          "inflation",
          "inflation",
          "inflation",
          "inflation",
          "inflation",
          "inflation",
          "inflation",
          "inflation",
          "inflation",
          "inflation",
          "inflation",
          "inflation",
          "inflation",
          "inflation",
          "inflation",
          "inflation",
          "inflation",
          "inflation",
          "inflation",
          "inflation",
          "inflation",
          "inflation",
          "inflation",
          "inflation",
          "inflation",
          "inflation",
          "inflation",
          "inflation",
          "inflation",
          "inflation",
          "inflation",
          "inflation",
          "inflation",
          "inflation",
          "inflation",
          "inflation",
          "inflation",
          "inflation",
          "inflation",
          "inflation",
          "inflation"
         ],
         "x0": " ",
         "xaxis": "x",
         "y": [
          7.04414105947266,
          2.71943995691976,
          0.347811226864587,
          1.44026838719741,
          1.67595988720927,
          1.18295624210408,
          4.0094359104519,
          -0.676578683595175,
          3.37685727149929,
          6.84035902487523,
          2.52512013979906,
          0.719125609120114,
          1.98385731334471,
          1.63478079549601,
          1.53234960272418,
          3.77929312235637,
          -0.740055504162738,
          2.82617111885407,
          8.45016437708331,
          2.25839440940855,
          -0.731970902350244,
          1.42080615551526,
          1.9234122872706,
          1.52040245947455,
          4.29715203929563,
          -0.923494026942321,
          1.58603162650601,
          14.7149197228147,
          2.75856321360112,
          1.12760348729637,
          1.03422218628562,
          2.09847219146923,
          1.37650038542013,
          3.80585899528851,
          -0.256541816316025,
          2.27009497336115,
          6.59718509985963,
          1.85725871857256,
          3.82463743108159,
          1.66573696655992,
          2.14208964640241,
          1.39039756680422,
          3.76725173477515,
          -0.00857338820310272,
          2.67723669309172,
          6.86953720898964,
          2.21355203439767,
          1.77641407667571,
          1.54691114751328,
          1.74586936380482,
          2.0891364902507,
          4.24634362031922,
          -0.282946068764391,
          3.3927468454955,
          4.18356812896909,
          2.00202539534161,
          1.6494309945586,
          1.57742642840563,
          1.67512449608723,
          2.4556616643929,
          5.79652337561634,
          0.249355116079085,
          3.22594410070404,
          3.64127299102652,
          2.13838399266837,
          4.81676767378834,
          2.29834400700951,
          1.4879980595386,
          2.38656150773327,
          6.37288135593231,
          0.060039454498669,
          2.85267248150138,
          5.67859390284168,
          2.37027067444299,
          5.92525137041092,
          2.62837981637219,
          2.81286194914787,
          3.52140856342539,
          8.34926704907581,
          1.3800788616492,
          3.839100296651,
          4.88803479876799,
          0.299466803009299,
          -0.728165250932898,
          0.312739007368447,
          0.0876204781574552,
          1.96173173560109,
          10.8823529411764,
          -1.35283672951719,
          -0.355546266299747,
          5.03872690108075,
          1.77687154092627,
          3.17532475269199,
          1.1038103778926,
          1.53112270420926,
          2.49265472467065,
          11.9893899204244,
          -0.728243207517779,
          1.6400434423899,
          6.6364496221309,
          2.91213508872351,
          5.55389892257493,
          2.07517283735874,
          2.11159795174994,
          3.8561124468282,
          8.91179336483371,
          -0.27245561610124,
          3.156841568622,
          5.40349914036997,
          1.51567823124517,
          2.61952432645541,
          2.00848884782956,
          1.9541953161351,
          2.5732347965453,
          9.47899691419801,
          -0.0440645104432602,
          2.06933726526067,
          6.20431066640101,
          0.938291897815317,
          2.62105001748115,
          1.50472330251876,
          0.863715497861805,
          2.29166666666659,
          10.0178784746102,
          0.335037912184741,
          1.46483265562717,
          6.32904015516139,
          1.90663590717861,
          1.92164162788521,
          0.906794000434246,
          0.50775882293799,
          1.45112016293279,
          6.66565671867899,
          2.75922671353253,
          1.62222297740817,
          9.02990102416136,
          1.12524136094277,
          1.43702380935655,
          0.514426137125456,
          0.0375143805125182,
          0.36804684232536,
          4.90697344127256,
          0.795279630579839,
          0.118627135552451,
          8.73914352329393,
          1.42875954701085,
          2.00000182191943,
          0.491747008445174,
          0.18333486112386,
          1.0084173681141,
          4.94821634062141,
          -0.127258844489754,
          1.26158320570536,
          3.44637335032669,
          1.59688412852977,
          1.59313600071436,
          1.50949485109628,
          1.03228275064662,
          2.55775577557747,
          3.32817337461298,
          0.484199796126385,
          2.13011000365961,
          3.66485028376729,
          2.26822567248103,
          2.07479039965576,
          1.73216879766942,
          1.85081508315502,
          2.29283990345938,
          3.9388264669163,
          0.989094598021848,
          2.44258329692817,
          3.73297621216894,
          1.94926902411593,
          2.89923416358227,
          1.44565976888253,
          1.10825492288294,
          1.73810460086513,
          3.72950573539129,
          0.46877615938395,
          1.81221007526021,
          3.21176803803376,
          0.716999632307827,
          2.41942189457782,
          0.144877925813982,
          0.476498852725066,
          0.989486703772491,
          6.62343677628535,
          -0.024995834027731,
          1.23358439630629
         ],
         "y0": " ",
         "yaxis": "y"
        },
        {
         "alignmentgroup": "True",
         "boxpoints": "all",
         "customdata": [
          [
           "Brazil",
           2000
          ],
          [
           "Canada",
           2000
          ],
          [
           "China",
           2000
          ],
          [
           "Germany",
           2000
          ],
          [
           "France",
           2000
          ],
          [
           "United Kingdom",
           2000
          ],
          [
           "India",
           2000
          ],
          [
           "Japan",
           2000
          ],
          [
           "United States",
           2000
          ],
          [
           "Brazil",
           2001
          ],
          [
           "Canada",
           2001
          ],
          [
           "China",
           2001
          ],
          [
           "Germany",
           2001
          ],
          [
           "France",
           2001
          ],
          [
           "United Kingdom",
           2001
          ],
          [
           "India",
           2001
          ],
          [
           "Japan",
           2001
          ],
          [
           "United States",
           2001
          ],
          [
           "Brazil",
           2002
          ],
          [
           "Canada",
           2002
          ],
          [
           "China",
           2002
          ],
          [
           "Germany",
           2002
          ],
          [
           "France",
           2002
          ],
          [
           "United Kingdom",
           2002
          ],
          [
           "India",
           2002
          ],
          [
           "Japan",
           2002
          ],
          [
           "United States",
           2002
          ],
          [
           "Brazil",
           2003
          ],
          [
           "Canada",
           2003
          ],
          [
           "China",
           2003
          ],
          [
           "Germany",
           2003
          ],
          [
           "France",
           2003
          ],
          [
           "United Kingdom",
           2003
          ],
          [
           "India",
           2003
          ],
          [
           "Japan",
           2003
          ],
          [
           "United States",
           2003
          ],
          [
           "Brazil",
           2004
          ],
          [
           "Canada",
           2004
          ],
          [
           "China",
           2004
          ],
          [
           "Germany",
           2004
          ],
          [
           "France",
           2004
          ],
          [
           "United Kingdom",
           2004
          ],
          [
           "India",
           2004
          ],
          [
           "Japan",
           2004
          ],
          [
           "United States",
           2004
          ],
          [
           "Brazil",
           2005
          ],
          [
           "Canada",
           2005
          ],
          [
           "China",
           2005
          ],
          [
           "Germany",
           2005
          ],
          [
           "France",
           2005
          ],
          [
           "United Kingdom",
           2005
          ],
          [
           "India",
           2005
          ],
          [
           "Japan",
           2005
          ],
          [
           "United States",
           2005
          ],
          [
           "Brazil",
           2006
          ],
          [
           "Canada",
           2006
          ],
          [
           "China",
           2006
          ],
          [
           "Germany",
           2006
          ],
          [
           "France",
           2006
          ],
          [
           "United Kingdom",
           2006
          ],
          [
           "India",
           2006
          ],
          [
           "Japan",
           2006
          ],
          [
           "United States",
           2006
          ],
          [
           "Brazil",
           2007
          ],
          [
           "Canada",
           2007
          ],
          [
           "China",
           2007
          ],
          [
           "Germany",
           2007
          ],
          [
           "France",
           2007
          ],
          [
           "United Kingdom",
           2007
          ],
          [
           "India",
           2007
          ],
          [
           "Japan",
           2007
          ],
          [
           "United States",
           2007
          ],
          [
           "Brazil",
           2008
          ],
          [
           "Canada",
           2008
          ],
          [
           "China",
           2008
          ],
          [
           "Germany",
           2008
          ],
          [
           "France",
           2008
          ],
          [
           "United Kingdom",
           2008
          ],
          [
           "India",
           2008
          ],
          [
           "Japan",
           2008
          ],
          [
           "United States",
           2008
          ],
          [
           "Brazil",
           2009
          ],
          [
           "Canada",
           2009
          ],
          [
           "China",
           2009
          ],
          [
           "Germany",
           2009
          ],
          [
           "France",
           2009
          ],
          [
           "United Kingdom",
           2009
          ],
          [
           "India",
           2009
          ],
          [
           "Japan",
           2009
          ],
          [
           "United States",
           2009
          ],
          [
           "Brazil",
           2010
          ],
          [
           "Canada",
           2010
          ],
          [
           "China",
           2010
          ],
          [
           "Germany",
           2010
          ],
          [
           "France",
           2010
          ],
          [
           "United Kingdom",
           2010
          ],
          [
           "India",
           2010
          ],
          [
           "Japan",
           2010
          ],
          [
           "United States",
           2010
          ],
          [
           "Brazil",
           2011
          ],
          [
           "Canada",
           2011
          ],
          [
           "China",
           2011
          ],
          [
           "Germany",
           2011
          ],
          [
           "France",
           2011
          ],
          [
           "United Kingdom",
           2011
          ],
          [
           "India",
           2011
          ],
          [
           "Japan",
           2011
          ],
          [
           "United States",
           2011
          ],
          [
           "Brazil",
           2012
          ],
          [
           "Canada",
           2012
          ],
          [
           "China",
           2012
          ],
          [
           "Germany",
           2012
          ],
          [
           "France",
           2012
          ],
          [
           "United Kingdom",
           2012
          ],
          [
           "India",
           2012
          ],
          [
           "Japan",
           2012
          ],
          [
           "United States",
           2012
          ],
          [
           "Brazil",
           2013
          ],
          [
           "Canada",
           2013
          ],
          [
           "China",
           2013
          ],
          [
           "Germany",
           2013
          ],
          [
           "France",
           2013
          ],
          [
           "United Kingdom",
           2013
          ],
          [
           "India",
           2013
          ],
          [
           "Japan",
           2013
          ],
          [
           "United States",
           2013
          ],
          [
           "Brazil",
           2014
          ],
          [
           "Canada",
           2014
          ],
          [
           "China",
           2014
          ],
          [
           "Germany",
           2014
          ],
          [
           "France",
           2014
          ],
          [
           "United Kingdom",
           2014
          ],
          [
           "India",
           2014
          ],
          [
           "Japan",
           2014
          ],
          [
           "United States",
           2014
          ],
          [
           "Brazil",
           2015
          ],
          [
           "Canada",
           2015
          ],
          [
           "China",
           2015
          ],
          [
           "Germany",
           2015
          ],
          [
           "France",
           2015
          ],
          [
           "United Kingdom",
           2015
          ],
          [
           "India",
           2015
          ],
          [
           "Japan",
           2015
          ],
          [
           "United States",
           2015
          ],
          [
           "Brazil",
           2016
          ],
          [
           "Canada",
           2016
          ],
          [
           "China",
           2016
          ],
          [
           "Germany",
           2016
          ],
          [
           "France",
           2016
          ],
          [
           "United Kingdom",
           2016
          ],
          [
           "India",
           2016
          ],
          [
           "Japan",
           2016
          ],
          [
           "United States",
           2016
          ],
          [
           "Brazil",
           2017
          ],
          [
           "Canada",
           2017
          ],
          [
           "China",
           2017
          ],
          [
           "Germany",
           2017
          ],
          [
           "France",
           2017
          ],
          [
           "United Kingdom",
           2017
          ],
          [
           "India",
           2017
          ],
          [
           "Japan",
           2017
          ],
          [
           "United States",
           2017
          ],
          [
           "Brazil",
           2018
          ],
          [
           "Canada",
           2018
          ],
          [
           "China",
           2018
          ],
          [
           "Germany",
           2018
          ],
          [
           "France",
           2018
          ],
          [
           "United Kingdom",
           2018
          ],
          [
           "India",
           2018
          ],
          [
           "Japan",
           2018
          ],
          [
           "United States",
           2018
          ],
          [
           "Brazil",
           2019
          ],
          [
           "Canada",
           2019
          ],
          [
           "China",
           2019
          ],
          [
           "Germany",
           2019
          ],
          [
           "France",
           2019
          ],
          [
           "United Kingdom",
           2019
          ],
          [
           "India",
           2019
          ],
          [
           "Japan",
           2019
          ],
          [
           "United States",
           2019
          ],
          [
           "Brazil",
           2020
          ],
          [
           "Canada",
           2020
          ],
          [
           "China",
           2020
          ],
          [
           "Germany",
           2020
          ],
          [
           "France",
           2020
          ],
          [
           "United Kingdom",
           2020
          ],
          [
           "India",
           2020
          ],
          [
           "Japan",
           2020
          ],
          [
           "United States",
           2020
          ]
         ],
         "hovertemplate": "indicator=%{x}<br>value=%{y}<br>country_name=%{customdata[0]}<br>year=%{customdata[1]}<extra></extra>",
         "legendgroup": "r&d",
         "marker": {
          "color": "#EF553B"
         },
         "name": "r&d",
         "notched": false,
         "offsetgroup": "r&d",
         "orientation": "v",
         "showlegend": true,
         "type": "box",
         "x": [
          "r&d",
          "r&d",
          "r&d",
          "r&d",
          "r&d",
          "r&d",
          "r&d",
          "r&d",
          "r&d",
          "r&d",
          "r&d",
          "r&d",
          "r&d",
          "r&d",
          "r&d",
          "r&d",
          "r&d",
          "r&d",
          "r&d",
          "r&d",
          "r&d",
          "r&d",
          "r&d",
          "r&d",
          "r&d",
          "r&d",
          "r&d",
          "r&d",
          "r&d",
          "r&d",
          "r&d",
          "r&d",
          "r&d",
          "r&d",
          "r&d",
          "r&d",
          "r&d",
          "r&d",
          "r&d",
          "r&d",
          "r&d",
          "r&d",
          "r&d",
          "r&d",
          "r&d",
          "r&d",
          "r&d",
          "r&d",
          "r&d",
          "r&d",
          "r&d",
          "r&d",
          "r&d",
          "r&d",
          "r&d",
          "r&d",
          "r&d",
          "r&d",
          "r&d",
          "r&d",
          "r&d",
          "r&d",
          "r&d",
          "r&d",
          "r&d",
          "r&d",
          "r&d",
          "r&d",
          "r&d",
          "r&d",
          "r&d",
          "r&d",
          "r&d",
          "r&d",
          "r&d",
          "r&d",
          "r&d",
          "r&d",
          "r&d",
          "r&d",
          "r&d",
          "r&d",
          "r&d",
          "r&d",
          "r&d",
          "r&d",
          "r&d",
          "r&d",
          "r&d",
          "r&d",
          "r&d",
          "r&d",
          "r&d",
          "r&d",
          "r&d",
          "r&d",
          "r&d",
          "r&d",
          "r&d",
          "r&d",
          "r&d",
          "r&d",
          "r&d",
          "r&d",
          "r&d",
          "r&d",
          "r&d",
          "r&d",
          "r&d",
          "r&d",
          "r&d",
          "r&d",
          "r&d",
          "r&d",
          "r&d",
          "r&d",
          "r&d",
          "r&d",
          "r&d",
          "r&d",
          "r&d",
          "r&d",
          "r&d",
          "r&d",
          "r&d",
          "r&d",
          "r&d",
          "r&d",
          "r&d",
          "r&d",
          "r&d",
          "r&d",
          "r&d",
          "r&d",
          "r&d",
          "r&d",
          "r&d",
          "r&d",
          "r&d",
          "r&d",
          "r&d",
          "r&d",
          "r&d",
          "r&d",
          "r&d",
          "r&d",
          "r&d",
          "r&d",
          "r&d",
          "r&d",
          "r&d",
          "r&d",
          "r&d",
          "r&d",
          "r&d",
          "r&d",
          "r&d",
          "r&d",
          "r&d",
          "r&d",
          "r&d",
          "r&d",
          "r&d",
          "r&d",
          "r&d",
          "r&d",
          "r&d",
          "r&d",
          "r&d",
          "r&d",
          "r&d",
          "r&d",
          "r&d",
          "r&d",
          "r&d",
          "r&d",
          "r&d",
          "r&d",
          "r&d",
          "r&d",
          "r&d",
          "r&d",
          "r&d",
          "r&d",
          "r&d",
          "r&d",
          "r&d",
          "r&d",
          "r&d"
         ],
         "x0": " ",
         "xaxis": "x",
         "y": [
          1.04751002788544,
          1.85847997665405,
          0.893159985542297,
          2.40982007980347,
          2.09346008300781,
          1.60906004905701,
          0.756990015506744,
          2.8584098815918,
          2.6198399066925,
          1.06198000907898,
          2.02116990089417,
          0.940330028533936,
          2.40437006950378,
          2.13804006576538,
          1.59658002853394,
          0.735909998416901,
          2.92348003387451,
          2.63715004920959,
          1.0096800327301,
          1.97170996665955,
          1.05786001682281,
          2.4362199306488,
          2.17448997497559,
          1.61372995376587,
          0.725669980049133,
          2.96514010429382,
          2.54745006561279,
          0.999390006065369,
          1.96781003475189,
          1.12037003040314,
          2.47461009025574,
          2.11994004249573,
          1.57962000370026,
          0.719290018081665,
          2.99320006370544,
          2.55014991760254,
          0.963429987430573,
          1.99733996391296,
          1.21498000621796,
          2.43518996238708,
          2.09460997581482,
          1.52997994422913,
          0.756900012493134,
          2.98125004768372,
          2.48686003684998,
          1.00246000289917,
          1.97126996517181,
          1.30791997909546,
          2.44193005561829,
          2.05151009559631,
          1.54904997348785,
          0.824109971523285,
          3.13091993331909,
          2.50192999839783,
          0.988070011138916,
          1.94304001331329,
          1.36854004859924,
          2.47232007980347,
          2.05094003677368,
          1.57539999485016,
          0.804729998111725,
          3.2276599407196,
          2.54544997215271,
          1.08138000965118,
          1.90357995033264,
          1.37369000911713,
          2.4604799747467,
          2.0245099067688,
          1.61708998680115,
          0.805069983005524,
          3.29257011413574,
          2.61515998840332,
          1.12904000282288,
          1.85578000545502,
          1.44591999053955,
          2.61512994766235,
          2.06117010116577,
          1.6078599691391,
          0.858759999275208,
          3.29223990440369,
          2.74481010437012,
          1.11865997314453,
          1.9174200296402,
          1.66480004787445,
          2.74266004562378,
          2.21206998825073,
          1.66659998893738,
          0.833140015602112,
          3.19589996337891,
          2.79182004928589,
          1.15991997718811,
          1.82527995109558,
          1.7137199640274,
          2.73024010658264,
          2.17857003211975,
          1.63496994972229,
          0.788489997386932,
          3.10494995117188,
          2.71444988250732,
          1.13966000080109,
          1.78714001178741,
          1.78033995628357,
          2.80555009841919,
          2.19161009788513,
          1.6452100276947,
          0.755020022392273,
          3.20536994934082,
          2.73802995681763,
          1.12683999538422,
          1.77232003211975,
          1.91214001178741,
          2.88165998458862,
          2.22707009315491,
          1.57631003856659,
          0.743990004062653,
          3.17371010780334,
          2.6728401184082,
          1.19567000865936,
          1.70539999008179,
          1.99785995483398,
          2.8359899520874,
          2.23703002929688,
          1.62011003494263,
          0.706420004367828,
          3.27895998954773,
          2.70215010643005,
          1.26970994472504,
          1.71416997909546,
          2.02242994308472,
          2.87784004211426,
          2.27591991424561,
          2.26449990272522,
          0.701590001583099,
          3.36788010597229,
          2.71785998344421,
          1.37092995643616,
          1.69324004650116,
          2.05700993537903,
          2.9337899684906,
          2.2270200252533,
          2.27027010917664,
          0.693099975585938,
          3.24071002006531,
          2.78699994087219,
          1.28637003898621,
          1.72903001308441,
          2.10033011436462,
          2.94039011001587,
          2.22237992286682,
          2.31145000457764,
          0.669839978218079,
          3.10665988922119,
          2.85349988937378,
          1.11749994754791,
          1.68701994419098,
          2.11602997779846,
          3.04710006713867,
          2.1988799571991,
          2.3231999874115,
          0.666029989719391,
          3.16635990142822,
          2.90432000160217,
          1.16769003868103,
          1.73720002174377,
          2.14057993888855,
          3.11011004447937,
          2.19666004180908,
          2.70481991767883,
          0.660009980201721,
          3.21919989585876,
          3.0100998878479,
          1.21096003055573,
          1.75573003292084,
          2.2446300983429,
          3.16778993606567,
          2.19179010391235,
          2.66551995277405,
          0.659420013427734,
          3.2182400226593,
          3.170490026474,
          1.14525997638702,
          1.89484000205994,
          2.40666007995605,
          3.12979006767273,
          2.28188991546631,
          2.93144011497498,
          0.646359980106354,
          3.26897001266479,
          3.46777009963989
         ],
         "y0": " ",
         "yaxis": "y"
        }
       ],
       "layout": {
        "boxmode": "overlay",
        "legend": {
         "title": {
          "text": "indicator"
         },
         "tracegroupgap": 0
        },
        "margin": {
         "t": 60
        },
        "template": {
         "data": {
          "bar": [
           {
            "error_x": {
             "color": "#2a3f5f"
            },
            "error_y": {
             "color": "#2a3f5f"
            },
            "marker": {
             "line": {
              "color": "#E5ECF6",
              "width": 0.5
             },
             "pattern": {
              "fillmode": "overlay",
              "size": 10,
              "solidity": 0.2
             }
            },
            "type": "bar"
           }
          ],
          "barpolar": [
           {
            "marker": {
             "line": {
              "color": "#E5ECF6",
              "width": 0.5
             },
             "pattern": {
              "fillmode": "overlay",
              "size": 10,
              "solidity": 0.2
             }
            },
            "type": "barpolar"
           }
          ],
          "carpet": [
           {
            "aaxis": {
             "endlinecolor": "#2a3f5f",
             "gridcolor": "white",
             "linecolor": "white",
             "minorgridcolor": "white",
             "startlinecolor": "#2a3f5f"
            },
            "baxis": {
             "endlinecolor": "#2a3f5f",
             "gridcolor": "white",
             "linecolor": "white",
             "minorgridcolor": "white",
             "startlinecolor": "#2a3f5f"
            },
            "type": "carpet"
           }
          ],
          "choropleth": [
           {
            "colorbar": {
             "outlinewidth": 0,
             "ticks": ""
            },
            "type": "choropleth"
           }
          ],
          "contour": [
           {
            "colorbar": {
             "outlinewidth": 0,
             "ticks": ""
            },
            "colorscale": [
             [
              0,
              "#0d0887"
             ],
             [
              0.1111111111111111,
              "#46039f"
             ],
             [
              0.2222222222222222,
              "#7201a8"
             ],
             [
              0.3333333333333333,
              "#9c179e"
             ],
             [
              0.4444444444444444,
              "#bd3786"
             ],
             [
              0.5555555555555556,
              "#d8576b"
             ],
             [
              0.6666666666666666,
              "#ed7953"
             ],
             [
              0.7777777777777778,
              "#fb9f3a"
             ],
             [
              0.8888888888888888,
              "#fdca26"
             ],
             [
              1,
              "#f0f921"
             ]
            ],
            "type": "contour"
           }
          ],
          "contourcarpet": [
           {
            "colorbar": {
             "outlinewidth": 0,
             "ticks": ""
            },
            "type": "contourcarpet"
           }
          ],
          "heatmap": [
           {
            "colorbar": {
             "outlinewidth": 0,
             "ticks": ""
            },
            "colorscale": [
             [
              0,
              "#0d0887"
             ],
             [
              0.1111111111111111,
              "#46039f"
             ],
             [
              0.2222222222222222,
              "#7201a8"
             ],
             [
              0.3333333333333333,
              "#9c179e"
             ],
             [
              0.4444444444444444,
              "#bd3786"
             ],
             [
              0.5555555555555556,
              "#d8576b"
             ],
             [
              0.6666666666666666,
              "#ed7953"
             ],
             [
              0.7777777777777778,
              "#fb9f3a"
             ],
             [
              0.8888888888888888,
              "#fdca26"
             ],
             [
              1,
              "#f0f921"
             ]
            ],
            "type": "heatmap"
           }
          ],
          "heatmapgl": [
           {
            "colorbar": {
             "outlinewidth": 0,
             "ticks": ""
            },
            "colorscale": [
             [
              0,
              "#0d0887"
             ],
             [
              0.1111111111111111,
              "#46039f"
             ],
             [
              0.2222222222222222,
              "#7201a8"
             ],
             [
              0.3333333333333333,
              "#9c179e"
             ],
             [
              0.4444444444444444,
              "#bd3786"
             ],
             [
              0.5555555555555556,
              "#d8576b"
             ],
             [
              0.6666666666666666,
              "#ed7953"
             ],
             [
              0.7777777777777778,
              "#fb9f3a"
             ],
             [
              0.8888888888888888,
              "#fdca26"
             ],
             [
              1,
              "#f0f921"
             ]
            ],
            "type": "heatmapgl"
           }
          ],
          "histogram": [
           {
            "marker": {
             "pattern": {
              "fillmode": "overlay",
              "size": 10,
              "solidity": 0.2
             }
            },
            "type": "histogram"
           }
          ],
          "histogram2d": [
           {
            "colorbar": {
             "outlinewidth": 0,
             "ticks": ""
            },
            "colorscale": [
             [
              0,
              "#0d0887"
             ],
             [
              0.1111111111111111,
              "#46039f"
             ],
             [
              0.2222222222222222,
              "#7201a8"
             ],
             [
              0.3333333333333333,
              "#9c179e"
             ],
             [
              0.4444444444444444,
              "#bd3786"
             ],
             [
              0.5555555555555556,
              "#d8576b"
             ],
             [
              0.6666666666666666,
              "#ed7953"
             ],
             [
              0.7777777777777778,
              "#fb9f3a"
             ],
             [
              0.8888888888888888,
              "#fdca26"
             ],
             [
              1,
              "#f0f921"
             ]
            ],
            "type": "histogram2d"
           }
          ],
          "histogram2dcontour": [
           {
            "colorbar": {
             "outlinewidth": 0,
             "ticks": ""
            },
            "colorscale": [
             [
              0,
              "#0d0887"
             ],
             [
              0.1111111111111111,
              "#46039f"
             ],
             [
              0.2222222222222222,
              "#7201a8"
             ],
             [
              0.3333333333333333,
              "#9c179e"
             ],
             [
              0.4444444444444444,
              "#bd3786"
             ],
             [
              0.5555555555555556,
              "#d8576b"
             ],
             [
              0.6666666666666666,
              "#ed7953"
             ],
             [
              0.7777777777777778,
              "#fb9f3a"
             ],
             [
              0.8888888888888888,
              "#fdca26"
             ],
             [
              1,
              "#f0f921"
             ]
            ],
            "type": "histogram2dcontour"
           }
          ],
          "mesh3d": [
           {
            "colorbar": {
             "outlinewidth": 0,
             "ticks": ""
            },
            "type": "mesh3d"
           }
          ],
          "parcoords": [
           {
            "line": {
             "colorbar": {
              "outlinewidth": 0,
              "ticks": ""
             }
            },
            "type": "parcoords"
           }
          ],
          "pie": [
           {
            "automargin": true,
            "type": "pie"
           }
          ],
          "scatter": [
           {
            "fillpattern": {
             "fillmode": "overlay",
             "size": 10,
             "solidity": 0.2
            },
            "type": "scatter"
           }
          ],
          "scatter3d": [
           {
            "line": {
             "colorbar": {
              "outlinewidth": 0,
              "ticks": ""
             }
            },
            "marker": {
             "colorbar": {
              "outlinewidth": 0,
              "ticks": ""
             }
            },
            "type": "scatter3d"
           }
          ],
          "scattercarpet": [
           {
            "marker": {
             "colorbar": {
              "outlinewidth": 0,
              "ticks": ""
             }
            },
            "type": "scattercarpet"
           }
          ],
          "scattergeo": [
           {
            "marker": {
             "colorbar": {
              "outlinewidth": 0,
              "ticks": ""
             }
            },
            "type": "scattergeo"
           }
          ],
          "scattergl": [
           {
            "marker": {
             "colorbar": {
              "outlinewidth": 0,
              "ticks": ""
             }
            },
            "type": "scattergl"
           }
          ],
          "scattermapbox": [
           {
            "marker": {
             "colorbar": {
              "outlinewidth": 0,
              "ticks": ""
             }
            },
            "type": "scattermapbox"
           }
          ],
          "scatterpolar": [
           {
            "marker": {
             "colorbar": {
              "outlinewidth": 0,
              "ticks": ""
             }
            },
            "type": "scatterpolar"
           }
          ],
          "scatterpolargl": [
           {
            "marker": {
             "colorbar": {
              "outlinewidth": 0,
              "ticks": ""
             }
            },
            "type": "scatterpolargl"
           }
          ],
          "scatterternary": [
           {
            "marker": {
             "colorbar": {
              "outlinewidth": 0,
              "ticks": ""
             }
            },
            "type": "scatterternary"
           }
          ],
          "surface": [
           {
            "colorbar": {
             "outlinewidth": 0,
             "ticks": ""
            },
            "colorscale": [
             [
              0,
              "#0d0887"
             ],
             [
              0.1111111111111111,
              "#46039f"
             ],
             [
              0.2222222222222222,
              "#7201a8"
             ],
             [
              0.3333333333333333,
              "#9c179e"
             ],
             [
              0.4444444444444444,
              "#bd3786"
             ],
             [
              0.5555555555555556,
              "#d8576b"
             ],
             [
              0.6666666666666666,
              "#ed7953"
             ],
             [
              0.7777777777777778,
              "#fb9f3a"
             ],
             [
              0.8888888888888888,
              "#fdca26"
             ],
             [
              1,
              "#f0f921"
             ]
            ],
            "type": "surface"
           }
          ],
          "table": [
           {
            "cells": {
             "fill": {
              "color": "#EBF0F8"
             },
             "line": {
              "color": "white"
             }
            },
            "header": {
             "fill": {
              "color": "#C8D4E3"
             },
             "line": {
              "color": "white"
             }
            },
            "type": "table"
           }
          ]
         },
         "layout": {
          "annotationdefaults": {
           "arrowcolor": "#2a3f5f",
           "arrowhead": 0,
           "arrowwidth": 1
          },
          "autotypenumbers": "strict",
          "coloraxis": {
           "colorbar": {
            "outlinewidth": 0,
            "ticks": ""
           }
          },
          "colorscale": {
           "diverging": [
            [
             0,
             "#8e0152"
            ],
            [
             0.1,
             "#c51b7d"
            ],
            [
             0.2,
             "#de77ae"
            ],
            [
             0.3,
             "#f1b6da"
            ],
            [
             0.4,
             "#fde0ef"
            ],
            [
             0.5,
             "#f7f7f7"
            ],
            [
             0.6,
             "#e6f5d0"
            ],
            [
             0.7,
             "#b8e186"
            ],
            [
             0.8,
             "#7fbc41"
            ],
            [
             0.9,
             "#4d9221"
            ],
            [
             1,
             "#276419"
            ]
           ],
           "sequential": [
            [
             0,
             "#0d0887"
            ],
            [
             0.1111111111111111,
             "#46039f"
            ],
            [
             0.2222222222222222,
             "#7201a8"
            ],
            [
             0.3333333333333333,
             "#9c179e"
            ],
            [
             0.4444444444444444,
             "#bd3786"
            ],
            [
             0.5555555555555556,
             "#d8576b"
            ],
            [
             0.6666666666666666,
             "#ed7953"
            ],
            [
             0.7777777777777778,
             "#fb9f3a"
            ],
            [
             0.8888888888888888,
             "#fdca26"
            ],
            [
             1,
             "#f0f921"
            ]
           ],
           "sequentialminus": [
            [
             0,
             "#0d0887"
            ],
            [
             0.1111111111111111,
             "#46039f"
            ],
            [
             0.2222222222222222,
             "#7201a8"
            ],
            [
             0.3333333333333333,
             "#9c179e"
            ],
            [
             0.4444444444444444,
             "#bd3786"
            ],
            [
             0.5555555555555556,
             "#d8576b"
            ],
            [
             0.6666666666666666,
             "#ed7953"
            ],
            [
             0.7777777777777778,
             "#fb9f3a"
            ],
            [
             0.8888888888888888,
             "#fdca26"
            ],
            [
             1,
             "#f0f921"
            ]
           ]
          },
          "colorway": [
           "#636efa",
           "#EF553B",
           "#00cc96",
           "#ab63fa",
           "#FFA15A",
           "#19d3f3",
           "#FF6692",
           "#B6E880",
           "#FF97FF",
           "#FECB52"
          ],
          "font": {
           "color": "#2a3f5f"
          },
          "geo": {
           "bgcolor": "white",
           "lakecolor": "white",
           "landcolor": "#E5ECF6",
           "showlakes": true,
           "showland": true,
           "subunitcolor": "white"
          },
          "hoverlabel": {
           "align": "left"
          },
          "hovermode": "closest",
          "mapbox": {
           "style": "light"
          },
          "paper_bgcolor": "white",
          "plot_bgcolor": "#E5ECF6",
          "polar": {
           "angularaxis": {
            "gridcolor": "white",
            "linecolor": "white",
            "ticks": ""
           },
           "bgcolor": "#E5ECF6",
           "radialaxis": {
            "gridcolor": "white",
            "linecolor": "white",
            "ticks": ""
           }
          },
          "scene": {
           "xaxis": {
            "backgroundcolor": "#E5ECF6",
            "gridcolor": "white",
            "gridwidth": 2,
            "linecolor": "white",
            "showbackground": true,
            "ticks": "",
            "zerolinecolor": "white"
           },
           "yaxis": {
            "backgroundcolor": "#E5ECF6",
            "gridcolor": "white",
            "gridwidth": 2,
            "linecolor": "white",
            "showbackground": true,
            "ticks": "",
            "zerolinecolor": "white"
           },
           "zaxis": {
            "backgroundcolor": "#E5ECF6",
            "gridcolor": "white",
            "gridwidth": 2,
            "linecolor": "white",
            "showbackground": true,
            "ticks": "",
            "zerolinecolor": "white"
           }
          },
          "shapedefaults": {
           "line": {
            "color": "#2a3f5f"
           }
          },
          "ternary": {
           "aaxis": {
            "gridcolor": "white",
            "linecolor": "white",
            "ticks": ""
           },
           "baxis": {
            "gridcolor": "white",
            "linecolor": "white",
            "ticks": ""
           },
           "bgcolor": "#E5ECF6",
           "caxis": {
            "gridcolor": "white",
            "linecolor": "white",
            "ticks": ""
           }
          },
          "title": {
           "x": 0.05
          },
          "xaxis": {
           "automargin": true,
           "gridcolor": "white",
           "linecolor": "white",
           "ticks": "",
           "title": {
            "standoff": 15
           },
           "zerolinecolor": "white",
           "zerolinewidth": 2
          },
          "yaxis": {
           "automargin": true,
           "gridcolor": "white",
           "linecolor": "white",
           "ticks": "",
           "title": {
            "standoff": 15
           },
           "zerolinecolor": "white",
           "zerolinewidth": 2
          }
         }
        },
        "xaxis": {
         "anchor": "y",
         "categoryarray": [
          "inflation",
          "r&d"
         ],
         "categoryorder": "array",
         "domain": [
          0,
          1
         ],
         "title": {
          "text": "indicator"
         }
        },
        "yaxis": {
         "anchor": "x",
         "domain": [
          0,
          1
         ],
         "title": {
          "text": "value"
         }
        }
       }
      },
      "text/html": [
       "<div>                            <div id=\"5d162b56-0a39-49d0-81ca-2764fde8f85d\" class=\"plotly-graph-div\" style=\"height:525px; width:100%;\"></div>            <script type=\"text/javascript\">                require([\"plotly\"], function(Plotly) {                    window.PLOTLYENV=window.PLOTLYENV || {};                                    if (document.getElementById(\"5d162b56-0a39-49d0-81ca-2764fde8f85d\")) {                    Plotly.newPlot(                        \"5d162b56-0a39-49d0-81ca-2764fde8f85d\",                        [{\"alignmentgroup\":\"True\",\"boxpoints\":\"all\",\"customdata\":[[\"Brazil\",2000],[\"Canada\",2000],[\"China\",2000],[\"Germany\",2000],[\"France\",2000],[\"United Kingdom\",2000],[\"India\",2000],[\"Japan\",2000],[\"United States\",2000],[\"Brazil\",2001],[\"Canada\",2001],[\"China\",2001],[\"Germany\",2001],[\"France\",2001],[\"United Kingdom\",2001],[\"India\",2001],[\"Japan\",2001],[\"United States\",2001],[\"Brazil\",2002],[\"Canada\",2002],[\"China\",2002],[\"Germany\",2002],[\"France\",2002],[\"United Kingdom\",2002],[\"India\",2002],[\"Japan\",2002],[\"United States\",2002],[\"Brazil\",2003],[\"Canada\",2003],[\"China\",2003],[\"Germany\",2003],[\"France\",2003],[\"United Kingdom\",2003],[\"India\",2003],[\"Japan\",2003],[\"United States\",2003],[\"Brazil\",2004],[\"Canada\",2004],[\"China\",2004],[\"Germany\",2004],[\"France\",2004],[\"United Kingdom\",2004],[\"India\",2004],[\"Japan\",2004],[\"United States\",2004],[\"Brazil\",2005],[\"Canada\",2005],[\"China\",2005],[\"Germany\",2005],[\"France\",2005],[\"United Kingdom\",2005],[\"India\",2005],[\"Japan\",2005],[\"United States\",2005],[\"Brazil\",2006],[\"Canada\",2006],[\"China\",2006],[\"Germany\",2006],[\"France\",2006],[\"United Kingdom\",2006],[\"India\",2006],[\"Japan\",2006],[\"United States\",2006],[\"Brazil\",2007],[\"Canada\",2007],[\"China\",2007],[\"Germany\",2007],[\"France\",2007],[\"United Kingdom\",2007],[\"India\",2007],[\"Japan\",2007],[\"United States\",2007],[\"Brazil\",2008],[\"Canada\",2008],[\"China\",2008],[\"Germany\",2008],[\"France\",2008],[\"United Kingdom\",2008],[\"India\",2008],[\"Japan\",2008],[\"United States\",2008],[\"Brazil\",2009],[\"Canada\",2009],[\"China\",2009],[\"Germany\",2009],[\"France\",2009],[\"United Kingdom\",2009],[\"India\",2009],[\"Japan\",2009],[\"United States\",2009],[\"Brazil\",2010],[\"Canada\",2010],[\"China\",2010],[\"Germany\",2010],[\"France\",2010],[\"United Kingdom\",2010],[\"India\",2010],[\"Japan\",2010],[\"United States\",2010],[\"Brazil\",2011],[\"Canada\",2011],[\"China\",2011],[\"Germany\",2011],[\"France\",2011],[\"United Kingdom\",2011],[\"India\",2011],[\"Japan\",2011],[\"United States\",2011],[\"Brazil\",2012],[\"Canada\",2012],[\"China\",2012],[\"Germany\",2012],[\"France\",2012],[\"United Kingdom\",2012],[\"India\",2012],[\"Japan\",2012],[\"United States\",2012],[\"Brazil\",2013],[\"Canada\",2013],[\"China\",2013],[\"Germany\",2013],[\"France\",2013],[\"United Kingdom\",2013],[\"India\",2013],[\"Japan\",2013],[\"United States\",2013],[\"Brazil\",2014],[\"Canada\",2014],[\"China\",2014],[\"Germany\",2014],[\"France\",2014],[\"United Kingdom\",2014],[\"India\",2014],[\"Japan\",2014],[\"United States\",2014],[\"Brazil\",2015],[\"Canada\",2015],[\"China\",2015],[\"Germany\",2015],[\"France\",2015],[\"United Kingdom\",2015],[\"India\",2015],[\"Japan\",2015],[\"United States\",2015],[\"Brazil\",2016],[\"Canada\",2016],[\"China\",2016],[\"Germany\",2016],[\"France\",2016],[\"United Kingdom\",2016],[\"India\",2016],[\"Japan\",2016],[\"United States\",2016],[\"Brazil\",2017],[\"Canada\",2017],[\"China\",2017],[\"Germany\",2017],[\"France\",2017],[\"United Kingdom\",2017],[\"India\",2017],[\"Japan\",2017],[\"United States\",2017],[\"Brazil\",2018],[\"Canada\",2018],[\"China\",2018],[\"Germany\",2018],[\"France\",2018],[\"United Kingdom\",2018],[\"India\",2018],[\"Japan\",2018],[\"United States\",2018],[\"Brazil\",2019],[\"Canada\",2019],[\"China\",2019],[\"Germany\",2019],[\"France\",2019],[\"United Kingdom\",2019],[\"India\",2019],[\"Japan\",2019],[\"United States\",2019],[\"Brazil\",2020],[\"Canada\",2020],[\"China\",2020],[\"Germany\",2020],[\"France\",2020],[\"United Kingdom\",2020],[\"India\",2020],[\"Japan\",2020],[\"United States\",2020]],\"hovertemplate\":\"indicator=%{x}\\u003cbr\\u003evalue=%{y}\\u003cbr\\u003ecountry_name=%{customdata[0]}\\u003cbr\\u003eyear=%{customdata[1]}\\u003cextra\\u003e\\u003c\\u002fextra\\u003e\",\"legendgroup\":\"inflation\",\"marker\":{\"color\":\"#636efa\"},\"name\":\"inflation\",\"notched\":false,\"offsetgroup\":\"inflation\",\"orientation\":\"v\",\"showlegend\":true,\"x\":[\"inflation\",\"inflation\",\"inflation\",\"inflation\",\"inflation\",\"inflation\",\"inflation\",\"inflation\",\"inflation\",\"inflation\",\"inflation\",\"inflation\",\"inflation\",\"inflation\",\"inflation\",\"inflation\",\"inflation\",\"inflation\",\"inflation\",\"inflation\",\"inflation\",\"inflation\",\"inflation\",\"inflation\",\"inflation\",\"inflation\",\"inflation\",\"inflation\",\"inflation\",\"inflation\",\"inflation\",\"inflation\",\"inflation\",\"inflation\",\"inflation\",\"inflation\",\"inflation\",\"inflation\",\"inflation\",\"inflation\",\"inflation\",\"inflation\",\"inflation\",\"inflation\",\"inflation\",\"inflation\",\"inflation\",\"inflation\",\"inflation\",\"inflation\",\"inflation\",\"inflation\",\"inflation\",\"inflation\",\"inflation\",\"inflation\",\"inflation\",\"inflation\",\"inflation\",\"inflation\",\"inflation\",\"inflation\",\"inflation\",\"inflation\",\"inflation\",\"inflation\",\"inflation\",\"inflation\",\"inflation\",\"inflation\",\"inflation\",\"inflation\",\"inflation\",\"inflation\",\"inflation\",\"inflation\",\"inflation\",\"inflation\",\"inflation\",\"inflation\",\"inflation\",\"inflation\",\"inflation\",\"inflation\",\"inflation\",\"inflation\",\"inflation\",\"inflation\",\"inflation\",\"inflation\",\"inflation\",\"inflation\",\"inflation\",\"inflation\",\"inflation\",\"inflation\",\"inflation\",\"inflation\",\"inflation\",\"inflation\",\"inflation\",\"inflation\",\"inflation\",\"inflation\",\"inflation\",\"inflation\",\"inflation\",\"inflation\",\"inflation\",\"inflation\",\"inflation\",\"inflation\",\"inflation\",\"inflation\",\"inflation\",\"inflation\",\"inflation\",\"inflation\",\"inflation\",\"inflation\",\"inflation\",\"inflation\",\"inflation\",\"inflation\",\"inflation\",\"inflation\",\"inflation\",\"inflation\",\"inflation\",\"inflation\",\"inflation\",\"inflation\",\"inflation\",\"inflation\",\"inflation\",\"inflation\",\"inflation\",\"inflation\",\"inflation\",\"inflation\",\"inflation\",\"inflation\",\"inflation\",\"inflation\",\"inflation\",\"inflation\",\"inflation\",\"inflation\",\"inflation\",\"inflation\",\"inflation\",\"inflation\",\"inflation\",\"inflation\",\"inflation\",\"inflation\",\"inflation\",\"inflation\",\"inflation\",\"inflation\",\"inflation\",\"inflation\",\"inflation\",\"inflation\",\"inflation\",\"inflation\",\"inflation\",\"inflation\",\"inflation\",\"inflation\",\"inflation\",\"inflation\",\"inflation\",\"inflation\",\"inflation\",\"inflation\",\"inflation\",\"inflation\",\"inflation\",\"inflation\",\"inflation\",\"inflation\",\"inflation\",\"inflation\",\"inflation\",\"inflation\",\"inflation\",\"inflation\",\"inflation\"],\"x0\":\" \",\"xaxis\":\"x\",\"y\":[7.04414105947266,2.71943995691976,0.347811226864587,1.44026838719741,1.67595988720927,1.18295624210408,4.0094359104519,-0.676578683595175,3.37685727149929,6.84035902487523,2.52512013979906,0.719125609120114,1.98385731334471,1.63478079549601,1.53234960272418,3.77929312235637,-0.740055504162738,2.82617111885407,8.45016437708331,2.25839440940855,-0.731970902350244,1.42080615551526,1.9234122872706,1.52040245947455,4.29715203929563,-0.923494026942321,1.58603162650601,14.7149197228147,2.75856321360112,1.12760348729637,1.03422218628562,2.09847219146923,1.37650038542013,3.80585899528851,-0.256541816316025,2.27009497336115,6.59718509985963,1.85725871857256,3.82463743108159,1.66573696655992,2.14208964640241,1.39039756680422,3.76725173477515,-0.00857338820310272,2.67723669309172,6.86953720898964,2.21355203439767,1.77641407667571,1.54691114751328,1.74586936380482,2.0891364902507,4.24634362031922,-0.282946068764391,3.3927468454955,4.18356812896909,2.00202539534161,1.6494309945586,1.57742642840563,1.67512449608723,2.4556616643929,5.79652337561634,0.249355116079085,3.22594410070404,3.64127299102652,2.13838399266837,4.81676767378834,2.29834400700951,1.4879980595386,2.38656150773327,6.37288135593231,0.060039454498669,2.85267248150138,5.67859390284168,2.37027067444299,5.92525137041092,2.62837981637219,2.81286194914787,3.52140856342539,8.34926704907581,1.3800788616492,3.839100296651,4.88803479876799,0.299466803009299,-0.728165250932898,0.312739007368447,0.0876204781574552,1.96173173560109,10.8823529411764,-1.35283672951719,-0.355546266299747,5.03872690108075,1.77687154092627,3.17532475269199,1.1038103778926,1.53112270420926,2.49265472467065,11.9893899204244,-0.728243207517779,1.6400434423899,6.6364496221309,2.91213508872351,5.55389892257493,2.07517283735874,2.11159795174994,3.8561124468282,8.91179336483371,-0.27245561610124,3.156841568622,5.40349914036997,1.51567823124517,2.61952432645541,2.00848884782956,1.9541953161351,2.5732347965453,9.47899691419801,-0.0440645104432602,2.06933726526067,6.20431066640101,0.938291897815317,2.62105001748115,1.50472330251876,0.863715497861805,2.29166666666659,10.0178784746102,0.335037912184741,1.46483265562717,6.32904015516139,1.90663590717861,1.92164162788521,0.906794000434246,0.50775882293799,1.45112016293279,6.66565671867899,2.75922671353253,1.62222297740817,9.02990102416136,1.12524136094277,1.43702380935655,0.514426137125456,0.0375143805125182,0.36804684232536,4.90697344127256,0.795279630579839,0.118627135552451,8.73914352329393,1.42875954701085,2.00000182191943,0.491747008445174,0.18333486112386,1.0084173681141,4.94821634062141,-0.127258844489754,1.26158320570536,3.44637335032669,1.59688412852977,1.59313600071436,1.50949485109628,1.03228275064662,2.55775577557747,3.32817337461298,0.484199796126385,2.13011000365961,3.66485028376729,2.26822567248103,2.07479039965576,1.73216879766942,1.85081508315502,2.29283990345938,3.9388264669163,0.989094598021848,2.44258329692817,3.73297621216894,1.94926902411593,2.89923416358227,1.44565976888253,1.10825492288294,1.73810460086513,3.72950573539129,0.46877615938395,1.81221007526021,3.21176803803376,0.716999632307827,2.41942189457782,0.144877925813982,0.476498852725066,0.989486703772491,6.62343677628535,-0.024995834027731,1.23358439630629],\"y0\":\" \",\"yaxis\":\"y\",\"type\":\"box\"},{\"alignmentgroup\":\"True\",\"boxpoints\":\"all\",\"customdata\":[[\"Brazil\",2000],[\"Canada\",2000],[\"China\",2000],[\"Germany\",2000],[\"France\",2000],[\"United Kingdom\",2000],[\"India\",2000],[\"Japan\",2000],[\"United States\",2000],[\"Brazil\",2001],[\"Canada\",2001],[\"China\",2001],[\"Germany\",2001],[\"France\",2001],[\"United Kingdom\",2001],[\"India\",2001],[\"Japan\",2001],[\"United States\",2001],[\"Brazil\",2002],[\"Canada\",2002],[\"China\",2002],[\"Germany\",2002],[\"France\",2002],[\"United Kingdom\",2002],[\"India\",2002],[\"Japan\",2002],[\"United States\",2002],[\"Brazil\",2003],[\"Canada\",2003],[\"China\",2003],[\"Germany\",2003],[\"France\",2003],[\"United Kingdom\",2003],[\"India\",2003],[\"Japan\",2003],[\"United States\",2003],[\"Brazil\",2004],[\"Canada\",2004],[\"China\",2004],[\"Germany\",2004],[\"France\",2004],[\"United Kingdom\",2004],[\"India\",2004],[\"Japan\",2004],[\"United States\",2004],[\"Brazil\",2005],[\"Canada\",2005],[\"China\",2005],[\"Germany\",2005],[\"France\",2005],[\"United Kingdom\",2005],[\"India\",2005],[\"Japan\",2005],[\"United States\",2005],[\"Brazil\",2006],[\"Canada\",2006],[\"China\",2006],[\"Germany\",2006],[\"France\",2006],[\"United Kingdom\",2006],[\"India\",2006],[\"Japan\",2006],[\"United States\",2006],[\"Brazil\",2007],[\"Canada\",2007],[\"China\",2007],[\"Germany\",2007],[\"France\",2007],[\"United Kingdom\",2007],[\"India\",2007],[\"Japan\",2007],[\"United States\",2007],[\"Brazil\",2008],[\"Canada\",2008],[\"China\",2008],[\"Germany\",2008],[\"France\",2008],[\"United Kingdom\",2008],[\"India\",2008],[\"Japan\",2008],[\"United States\",2008],[\"Brazil\",2009],[\"Canada\",2009],[\"China\",2009],[\"Germany\",2009],[\"France\",2009],[\"United Kingdom\",2009],[\"India\",2009],[\"Japan\",2009],[\"United States\",2009],[\"Brazil\",2010],[\"Canada\",2010],[\"China\",2010],[\"Germany\",2010],[\"France\",2010],[\"United Kingdom\",2010],[\"India\",2010],[\"Japan\",2010],[\"United States\",2010],[\"Brazil\",2011],[\"Canada\",2011],[\"China\",2011],[\"Germany\",2011],[\"France\",2011],[\"United Kingdom\",2011],[\"India\",2011],[\"Japan\",2011],[\"United States\",2011],[\"Brazil\",2012],[\"Canada\",2012],[\"China\",2012],[\"Germany\",2012],[\"France\",2012],[\"United Kingdom\",2012],[\"India\",2012],[\"Japan\",2012],[\"United States\",2012],[\"Brazil\",2013],[\"Canada\",2013],[\"China\",2013],[\"Germany\",2013],[\"France\",2013],[\"United Kingdom\",2013],[\"India\",2013],[\"Japan\",2013],[\"United States\",2013],[\"Brazil\",2014],[\"Canada\",2014],[\"China\",2014],[\"Germany\",2014],[\"France\",2014],[\"United Kingdom\",2014],[\"India\",2014],[\"Japan\",2014],[\"United States\",2014],[\"Brazil\",2015],[\"Canada\",2015],[\"China\",2015],[\"Germany\",2015],[\"France\",2015],[\"United Kingdom\",2015],[\"India\",2015],[\"Japan\",2015],[\"United States\",2015],[\"Brazil\",2016],[\"Canada\",2016],[\"China\",2016],[\"Germany\",2016],[\"France\",2016],[\"United Kingdom\",2016],[\"India\",2016],[\"Japan\",2016],[\"United States\",2016],[\"Brazil\",2017],[\"Canada\",2017],[\"China\",2017],[\"Germany\",2017],[\"France\",2017],[\"United Kingdom\",2017],[\"India\",2017],[\"Japan\",2017],[\"United States\",2017],[\"Brazil\",2018],[\"Canada\",2018],[\"China\",2018],[\"Germany\",2018],[\"France\",2018],[\"United Kingdom\",2018],[\"India\",2018],[\"Japan\",2018],[\"United States\",2018],[\"Brazil\",2019],[\"Canada\",2019],[\"China\",2019],[\"Germany\",2019],[\"France\",2019],[\"United Kingdom\",2019],[\"India\",2019],[\"Japan\",2019],[\"United States\",2019],[\"Brazil\",2020],[\"Canada\",2020],[\"China\",2020],[\"Germany\",2020],[\"France\",2020],[\"United Kingdom\",2020],[\"India\",2020],[\"Japan\",2020],[\"United States\",2020]],\"hovertemplate\":\"indicator=%{x}\\u003cbr\\u003evalue=%{y}\\u003cbr\\u003ecountry_name=%{customdata[0]}\\u003cbr\\u003eyear=%{customdata[1]}\\u003cextra\\u003e\\u003c\\u002fextra\\u003e\",\"legendgroup\":\"r&d\",\"marker\":{\"color\":\"#EF553B\"},\"name\":\"r&d\",\"notched\":false,\"offsetgroup\":\"r&d\",\"orientation\":\"v\",\"showlegend\":true,\"x\":[\"r&d\",\"r&d\",\"r&d\",\"r&d\",\"r&d\",\"r&d\",\"r&d\",\"r&d\",\"r&d\",\"r&d\",\"r&d\",\"r&d\",\"r&d\",\"r&d\",\"r&d\",\"r&d\",\"r&d\",\"r&d\",\"r&d\",\"r&d\",\"r&d\",\"r&d\",\"r&d\",\"r&d\",\"r&d\",\"r&d\",\"r&d\",\"r&d\",\"r&d\",\"r&d\",\"r&d\",\"r&d\",\"r&d\",\"r&d\",\"r&d\",\"r&d\",\"r&d\",\"r&d\",\"r&d\",\"r&d\",\"r&d\",\"r&d\",\"r&d\",\"r&d\",\"r&d\",\"r&d\",\"r&d\",\"r&d\",\"r&d\",\"r&d\",\"r&d\",\"r&d\",\"r&d\",\"r&d\",\"r&d\",\"r&d\",\"r&d\",\"r&d\",\"r&d\",\"r&d\",\"r&d\",\"r&d\",\"r&d\",\"r&d\",\"r&d\",\"r&d\",\"r&d\",\"r&d\",\"r&d\",\"r&d\",\"r&d\",\"r&d\",\"r&d\",\"r&d\",\"r&d\",\"r&d\",\"r&d\",\"r&d\",\"r&d\",\"r&d\",\"r&d\",\"r&d\",\"r&d\",\"r&d\",\"r&d\",\"r&d\",\"r&d\",\"r&d\",\"r&d\",\"r&d\",\"r&d\",\"r&d\",\"r&d\",\"r&d\",\"r&d\",\"r&d\",\"r&d\",\"r&d\",\"r&d\",\"r&d\",\"r&d\",\"r&d\",\"r&d\",\"r&d\",\"r&d\",\"r&d\",\"r&d\",\"r&d\",\"r&d\",\"r&d\",\"r&d\",\"r&d\",\"r&d\",\"r&d\",\"r&d\",\"r&d\",\"r&d\",\"r&d\",\"r&d\",\"r&d\",\"r&d\",\"r&d\",\"r&d\",\"r&d\",\"r&d\",\"r&d\",\"r&d\",\"r&d\",\"r&d\",\"r&d\",\"r&d\",\"r&d\",\"r&d\",\"r&d\",\"r&d\",\"r&d\",\"r&d\",\"r&d\",\"r&d\",\"r&d\",\"r&d\",\"r&d\",\"r&d\",\"r&d\",\"r&d\",\"r&d\",\"r&d\",\"r&d\",\"r&d\",\"r&d\",\"r&d\",\"r&d\",\"r&d\",\"r&d\",\"r&d\",\"r&d\",\"r&d\",\"r&d\",\"r&d\",\"r&d\",\"r&d\",\"r&d\",\"r&d\",\"r&d\",\"r&d\",\"r&d\",\"r&d\",\"r&d\",\"r&d\",\"r&d\",\"r&d\",\"r&d\",\"r&d\",\"r&d\",\"r&d\",\"r&d\",\"r&d\",\"r&d\",\"r&d\",\"r&d\",\"r&d\",\"r&d\",\"r&d\",\"r&d\",\"r&d\",\"r&d\",\"r&d\",\"r&d\",\"r&d\"],\"x0\":\" \",\"xaxis\":\"x\",\"y\":[1.04751002788544,1.85847997665405,0.893159985542297,2.40982007980347,2.09346008300781,1.60906004905701,0.756990015506744,2.8584098815918,2.6198399066925,1.06198000907898,2.02116990089417,0.940330028533936,2.40437006950378,2.13804006576538,1.59658002853394,0.735909998416901,2.92348003387451,2.63715004920959,1.0096800327301,1.97170996665955,1.05786001682281,2.4362199306488,2.17448997497559,1.61372995376587,0.725669980049133,2.96514010429382,2.54745006561279,0.999390006065369,1.96781003475189,1.12037003040314,2.47461009025574,2.11994004249573,1.57962000370026,0.719290018081665,2.99320006370544,2.55014991760254,0.963429987430573,1.99733996391296,1.21498000621796,2.43518996238708,2.09460997581482,1.52997994422913,0.756900012493134,2.98125004768372,2.48686003684998,1.00246000289917,1.97126996517181,1.30791997909546,2.44193005561829,2.05151009559631,1.54904997348785,0.824109971523285,3.13091993331909,2.50192999839783,0.988070011138916,1.94304001331329,1.36854004859924,2.47232007980347,2.05094003677368,1.57539999485016,0.804729998111725,3.2276599407196,2.54544997215271,1.08138000965118,1.90357995033264,1.37369000911713,2.4604799747467,2.0245099067688,1.61708998680115,0.805069983005524,3.29257011413574,2.61515998840332,1.12904000282288,1.85578000545502,1.44591999053955,2.61512994766235,2.06117010116577,1.6078599691391,0.858759999275208,3.29223990440369,2.74481010437012,1.11865997314453,1.9174200296402,1.66480004787445,2.74266004562378,2.21206998825073,1.66659998893738,0.833140015602112,3.19589996337891,2.79182004928589,1.15991997718811,1.82527995109558,1.7137199640274,2.73024010658264,2.17857003211975,1.63496994972229,0.788489997386932,3.10494995117188,2.71444988250732,1.13966000080109,1.78714001178741,1.78033995628357,2.80555009841919,2.19161009788513,1.6452100276947,0.755020022392273,3.20536994934082,2.73802995681763,1.12683999538422,1.77232003211975,1.91214001178741,2.88165998458862,2.22707009315491,1.57631003856659,0.743990004062653,3.17371010780334,2.6728401184082,1.19567000865936,1.70539999008179,1.99785995483398,2.8359899520874,2.23703002929688,1.62011003494263,0.706420004367828,3.27895998954773,2.70215010643005,1.26970994472504,1.71416997909546,2.02242994308472,2.87784004211426,2.27591991424561,2.26449990272522,0.701590001583099,3.36788010597229,2.71785998344421,1.37092995643616,1.69324004650116,2.05700993537903,2.9337899684906,2.2270200252533,2.27027010917664,0.693099975585938,3.24071002006531,2.78699994087219,1.28637003898621,1.72903001308441,2.10033011436462,2.94039011001587,2.22237992286682,2.31145000457764,0.669839978218079,3.10665988922119,2.85349988937378,1.11749994754791,1.68701994419098,2.11602997779846,3.04710006713867,2.1988799571991,2.3231999874115,0.666029989719391,3.16635990142822,2.90432000160217,1.16769003868103,1.73720002174377,2.14057993888855,3.11011004447937,2.19666004180908,2.70481991767883,0.660009980201721,3.21919989585876,3.0100998878479,1.21096003055573,1.75573003292084,2.2446300983429,3.16778993606567,2.19179010391235,2.66551995277405,0.659420013427734,3.2182400226593,3.170490026474,1.14525997638702,1.89484000205994,2.40666007995605,3.12979006767273,2.28188991546631,2.93144011497498,0.646359980106354,3.26897001266479,3.46777009963989],\"y0\":\" \",\"yaxis\":\"y\",\"type\":\"box\"}],                        {\"template\":{\"data\":{\"histogram2dcontour\":[{\"type\":\"histogram2dcontour\",\"colorbar\":{\"outlinewidth\":0,\"ticks\":\"\"},\"colorscale\":[[0.0,\"#0d0887\"],[0.1111111111111111,\"#46039f\"],[0.2222222222222222,\"#7201a8\"],[0.3333333333333333,\"#9c179e\"],[0.4444444444444444,\"#bd3786\"],[0.5555555555555556,\"#d8576b\"],[0.6666666666666666,\"#ed7953\"],[0.7777777777777778,\"#fb9f3a\"],[0.8888888888888888,\"#fdca26\"],[1.0,\"#f0f921\"]]}],\"choropleth\":[{\"type\":\"choropleth\",\"colorbar\":{\"outlinewidth\":0,\"ticks\":\"\"}}],\"histogram2d\":[{\"type\":\"histogram2d\",\"colorbar\":{\"outlinewidth\":0,\"ticks\":\"\"},\"colorscale\":[[0.0,\"#0d0887\"],[0.1111111111111111,\"#46039f\"],[0.2222222222222222,\"#7201a8\"],[0.3333333333333333,\"#9c179e\"],[0.4444444444444444,\"#bd3786\"],[0.5555555555555556,\"#d8576b\"],[0.6666666666666666,\"#ed7953\"],[0.7777777777777778,\"#fb9f3a\"],[0.8888888888888888,\"#fdca26\"],[1.0,\"#f0f921\"]]}],\"heatmap\":[{\"type\":\"heatmap\",\"colorbar\":{\"outlinewidth\":0,\"ticks\":\"\"},\"colorscale\":[[0.0,\"#0d0887\"],[0.1111111111111111,\"#46039f\"],[0.2222222222222222,\"#7201a8\"],[0.3333333333333333,\"#9c179e\"],[0.4444444444444444,\"#bd3786\"],[0.5555555555555556,\"#d8576b\"],[0.6666666666666666,\"#ed7953\"],[0.7777777777777778,\"#fb9f3a\"],[0.8888888888888888,\"#fdca26\"],[1.0,\"#f0f921\"]]}],\"heatmapgl\":[{\"type\":\"heatmapgl\",\"colorbar\":{\"outlinewidth\":0,\"ticks\":\"\"},\"colorscale\":[[0.0,\"#0d0887\"],[0.1111111111111111,\"#46039f\"],[0.2222222222222222,\"#7201a8\"],[0.3333333333333333,\"#9c179e\"],[0.4444444444444444,\"#bd3786\"],[0.5555555555555556,\"#d8576b\"],[0.6666666666666666,\"#ed7953\"],[0.7777777777777778,\"#fb9f3a\"],[0.8888888888888888,\"#fdca26\"],[1.0,\"#f0f921\"]]}],\"contourcarpet\":[{\"type\":\"contourcarpet\",\"colorbar\":{\"outlinewidth\":0,\"ticks\":\"\"}}],\"contour\":[{\"type\":\"contour\",\"colorbar\":{\"outlinewidth\":0,\"ticks\":\"\"},\"colorscale\":[[0.0,\"#0d0887\"],[0.1111111111111111,\"#46039f\"],[0.2222222222222222,\"#7201a8\"],[0.3333333333333333,\"#9c179e\"],[0.4444444444444444,\"#bd3786\"],[0.5555555555555556,\"#d8576b\"],[0.6666666666666666,\"#ed7953\"],[0.7777777777777778,\"#fb9f3a\"],[0.8888888888888888,\"#fdca26\"],[1.0,\"#f0f921\"]]}],\"surface\":[{\"type\":\"surface\",\"colorbar\":{\"outlinewidth\":0,\"ticks\":\"\"},\"colorscale\":[[0.0,\"#0d0887\"],[0.1111111111111111,\"#46039f\"],[0.2222222222222222,\"#7201a8\"],[0.3333333333333333,\"#9c179e\"],[0.4444444444444444,\"#bd3786\"],[0.5555555555555556,\"#d8576b\"],[0.6666666666666666,\"#ed7953\"],[0.7777777777777778,\"#fb9f3a\"],[0.8888888888888888,\"#fdca26\"],[1.0,\"#f0f921\"]]}],\"mesh3d\":[{\"type\":\"mesh3d\",\"colorbar\":{\"outlinewidth\":0,\"ticks\":\"\"}}],\"scatter\":[{\"fillpattern\":{\"fillmode\":\"overlay\",\"size\":10,\"solidity\":0.2},\"type\":\"scatter\"}],\"parcoords\":[{\"type\":\"parcoords\",\"line\":{\"colorbar\":{\"outlinewidth\":0,\"ticks\":\"\"}}}],\"scatterpolargl\":[{\"type\":\"scatterpolargl\",\"marker\":{\"colorbar\":{\"outlinewidth\":0,\"ticks\":\"\"}}}],\"bar\":[{\"error_x\":{\"color\":\"#2a3f5f\"},\"error_y\":{\"color\":\"#2a3f5f\"},\"marker\":{\"line\":{\"color\":\"#E5ECF6\",\"width\":0.5},\"pattern\":{\"fillmode\":\"overlay\",\"size\":10,\"solidity\":0.2}},\"type\":\"bar\"}],\"scattergeo\":[{\"type\":\"scattergeo\",\"marker\":{\"colorbar\":{\"outlinewidth\":0,\"ticks\":\"\"}}}],\"scatterpolar\":[{\"type\":\"scatterpolar\",\"marker\":{\"colorbar\":{\"outlinewidth\":0,\"ticks\":\"\"}}}],\"histogram\":[{\"marker\":{\"pattern\":{\"fillmode\":\"overlay\",\"size\":10,\"solidity\":0.2}},\"type\":\"histogram\"}],\"scattergl\":[{\"type\":\"scattergl\",\"marker\":{\"colorbar\":{\"outlinewidth\":0,\"ticks\":\"\"}}}],\"scatter3d\":[{\"type\":\"scatter3d\",\"line\":{\"colorbar\":{\"outlinewidth\":0,\"ticks\":\"\"}},\"marker\":{\"colorbar\":{\"outlinewidth\":0,\"ticks\":\"\"}}}],\"scattermapbox\":[{\"type\":\"scattermapbox\",\"marker\":{\"colorbar\":{\"outlinewidth\":0,\"ticks\":\"\"}}}],\"scatterternary\":[{\"type\":\"scatterternary\",\"marker\":{\"colorbar\":{\"outlinewidth\":0,\"ticks\":\"\"}}}],\"scattercarpet\":[{\"type\":\"scattercarpet\",\"marker\":{\"colorbar\":{\"outlinewidth\":0,\"ticks\":\"\"}}}],\"carpet\":[{\"aaxis\":{\"endlinecolor\":\"#2a3f5f\",\"gridcolor\":\"white\",\"linecolor\":\"white\",\"minorgridcolor\":\"white\",\"startlinecolor\":\"#2a3f5f\"},\"baxis\":{\"endlinecolor\":\"#2a3f5f\",\"gridcolor\":\"white\",\"linecolor\":\"white\",\"minorgridcolor\":\"white\",\"startlinecolor\":\"#2a3f5f\"},\"type\":\"carpet\"}],\"table\":[{\"cells\":{\"fill\":{\"color\":\"#EBF0F8\"},\"line\":{\"color\":\"white\"}},\"header\":{\"fill\":{\"color\":\"#C8D4E3\"},\"line\":{\"color\":\"white\"}},\"type\":\"table\"}],\"barpolar\":[{\"marker\":{\"line\":{\"color\":\"#E5ECF6\",\"width\":0.5},\"pattern\":{\"fillmode\":\"overlay\",\"size\":10,\"solidity\":0.2}},\"type\":\"barpolar\"}],\"pie\":[{\"automargin\":true,\"type\":\"pie\"}]},\"layout\":{\"autotypenumbers\":\"strict\",\"colorway\":[\"#636efa\",\"#EF553B\",\"#00cc96\",\"#ab63fa\",\"#FFA15A\",\"#19d3f3\",\"#FF6692\",\"#B6E880\",\"#FF97FF\",\"#FECB52\"],\"font\":{\"color\":\"#2a3f5f\"},\"hovermode\":\"closest\",\"hoverlabel\":{\"align\":\"left\"},\"paper_bgcolor\":\"white\",\"plot_bgcolor\":\"#E5ECF6\",\"polar\":{\"bgcolor\":\"#E5ECF6\",\"angularaxis\":{\"gridcolor\":\"white\",\"linecolor\":\"white\",\"ticks\":\"\"},\"radialaxis\":{\"gridcolor\":\"white\",\"linecolor\":\"white\",\"ticks\":\"\"}},\"ternary\":{\"bgcolor\":\"#E5ECF6\",\"aaxis\":{\"gridcolor\":\"white\",\"linecolor\":\"white\",\"ticks\":\"\"},\"baxis\":{\"gridcolor\":\"white\",\"linecolor\":\"white\",\"ticks\":\"\"},\"caxis\":{\"gridcolor\":\"white\",\"linecolor\":\"white\",\"ticks\":\"\"}},\"coloraxis\":{\"colorbar\":{\"outlinewidth\":0,\"ticks\":\"\"}},\"colorscale\":{\"sequential\":[[0.0,\"#0d0887\"],[0.1111111111111111,\"#46039f\"],[0.2222222222222222,\"#7201a8\"],[0.3333333333333333,\"#9c179e\"],[0.4444444444444444,\"#bd3786\"],[0.5555555555555556,\"#d8576b\"],[0.6666666666666666,\"#ed7953\"],[0.7777777777777778,\"#fb9f3a\"],[0.8888888888888888,\"#fdca26\"],[1.0,\"#f0f921\"]],\"sequentialminus\":[[0.0,\"#0d0887\"],[0.1111111111111111,\"#46039f\"],[0.2222222222222222,\"#7201a8\"],[0.3333333333333333,\"#9c179e\"],[0.4444444444444444,\"#bd3786\"],[0.5555555555555556,\"#d8576b\"],[0.6666666666666666,\"#ed7953\"],[0.7777777777777778,\"#fb9f3a\"],[0.8888888888888888,\"#fdca26\"],[1.0,\"#f0f921\"]],\"diverging\":[[0,\"#8e0152\"],[0.1,\"#c51b7d\"],[0.2,\"#de77ae\"],[0.3,\"#f1b6da\"],[0.4,\"#fde0ef\"],[0.5,\"#f7f7f7\"],[0.6,\"#e6f5d0\"],[0.7,\"#b8e186\"],[0.8,\"#7fbc41\"],[0.9,\"#4d9221\"],[1,\"#276419\"]]},\"xaxis\":{\"gridcolor\":\"white\",\"linecolor\":\"white\",\"ticks\":\"\",\"title\":{\"standoff\":15},\"zerolinecolor\":\"white\",\"automargin\":true,\"zerolinewidth\":2},\"yaxis\":{\"gridcolor\":\"white\",\"linecolor\":\"white\",\"ticks\":\"\",\"title\":{\"standoff\":15},\"zerolinecolor\":\"white\",\"automargin\":true,\"zerolinewidth\":2},\"scene\":{\"xaxis\":{\"backgroundcolor\":\"#E5ECF6\",\"gridcolor\":\"white\",\"linecolor\":\"white\",\"showbackground\":true,\"ticks\":\"\",\"zerolinecolor\":\"white\",\"gridwidth\":2},\"yaxis\":{\"backgroundcolor\":\"#E5ECF6\",\"gridcolor\":\"white\",\"linecolor\":\"white\",\"showbackground\":true,\"ticks\":\"\",\"zerolinecolor\":\"white\",\"gridwidth\":2},\"zaxis\":{\"backgroundcolor\":\"#E5ECF6\",\"gridcolor\":\"white\",\"linecolor\":\"white\",\"showbackground\":true,\"ticks\":\"\",\"zerolinecolor\":\"white\",\"gridwidth\":2}},\"shapedefaults\":{\"line\":{\"color\":\"#2a3f5f\"}},\"annotationdefaults\":{\"arrowcolor\":\"#2a3f5f\",\"arrowhead\":0,\"arrowwidth\":1},\"geo\":{\"bgcolor\":\"white\",\"landcolor\":\"#E5ECF6\",\"subunitcolor\":\"white\",\"showland\":true,\"showlakes\":true,\"lakecolor\":\"white\"},\"title\":{\"x\":0.05},\"mapbox\":{\"style\":\"light\"}}},\"xaxis\":{\"anchor\":\"y\",\"domain\":[0.0,1.0],\"title\":{\"text\":\"indicator\"},\"categoryorder\":\"array\",\"categoryarray\":[\"inflation\",\"r&d\"]},\"yaxis\":{\"anchor\":\"x\",\"domain\":[0.0,1.0],\"title\":{\"text\":\"value\"}},\"legend\":{\"title\":{\"text\":\"indicator\"},\"tracegroupgap\":0},\"margin\":{\"t\":60},\"boxmode\":\"overlay\"},                        {\"responsive\": true}                    ).then(function(){\n",
       "                            \n",
       "var gd = document.getElementById('5d162b56-0a39-49d0-81ca-2764fde8f85d');\n",
       "var x = new MutationObserver(function (mutations, observer) {{\n",
       "        var display = window.getComputedStyle(gd).display;\n",
       "        if (!display || display === 'none') {{\n",
       "            console.log([gd, 'removed!']);\n",
       "            Plotly.purge(gd);\n",
       "            observer.disconnect();\n",
       "        }}\n",
       "}});\n",
       "\n",
       "// Listen for the removal of the full notebook cells\n",
       "var notebookContainer = gd.closest('#notebook-container');\n",
       "if (notebookContainer) {{\n",
       "    x.observe(notebookContainer, {childList: true});\n",
       "}}\n",
       "\n",
       "// Listen for the clearing of the current output cell\n",
       "var outputEl = gd.closest('.output');\n",
       "if (outputEl) {{\n",
       "    x.observe(outputEl, {childList: true});\n",
       "}}\n",
       "\n",
       "                        })                };                });            </script>        </div>"
      ]
     },
     "metadata": {},
     "output_type": "display_data"
    }
   ],
   "source": [
    "# Inflation and R&D distribution\n",
    "\n",
    "inflation_rd_subset_without_australia_combined = inflation_rd_subset_without_australia.melt(\n",
    "    id_vars=['year', 'country_code', 'country_name'],\n",
    "    value_vars=['inflation', 'r&d'],\n",
    "    var_name='indicator',\n",
    "    value_name='value'\n",
    ")\n",
    "\n",
    "fig = px.box(\n",
    "    inflation_rd_subset_without_australia_combined,\n",
    "    x='indicator',\n",
    "    y='value',\n",
    "    color='indicator',\n",
    "    points='all',            \n",
    "    hover_data=['country_name', 'year'] \n",
    ")\n",
    "\n",
    "fig.show()"
   ]
  },
  {
   "cell_type": "markdown",
   "metadata": {},
   "source": [
    "Brazil and India are the main outliers in the inflation data, while Japan and China exhibit occasional years of deflation. Regarding R&D spending, the data shows a fairly consistent pattern across all countries."
   ]
  },
  {
   "cell_type": "markdown",
   "metadata": {},
   "source": [
    "## Preparing data for time series analysis"
   ]
  },
  {
   "cell_type": "markdown",
   "metadata": {},
   "source": [
    "Taking into account the data, we can prepare diff. data sets for further analysis:\n",
    "\n",
    "- R&D data from 2000 to 2020 with 9 countries excluding Australia.\n",
    "- Inflation data from 1960 to 2020 for the 10 countries (Australia, Brazil, Canada, China, Germany, France, UK, India, Japan, and the U.S)"
   ]
  },
  {
   "cell_type": "code",
   "execution_count": 213,
   "metadata": {},
   "outputs": [],
   "source": [
    "# Creating Inflation subset with only the needed columns\n",
    "\n",
    "inflation_subset = inflation_rd_dataset_ordered[['year', 'country_name', 'inflation']].copy()"
   ]
  },
  {
   "cell_type": "code",
   "execution_count": 214,
   "metadata": {},
   "outputs": [
    {
     "data": {
      "text/html": [
       "<div>\n",
       "<style scoped>\n",
       "    .dataframe tbody tr th:only-of-type {\n",
       "        vertical-align: middle;\n",
       "    }\n",
       "\n",
       "    .dataframe tbody tr th {\n",
       "        vertical-align: top;\n",
       "    }\n",
       "\n",
       "    .dataframe thead th {\n",
       "        text-align: right;\n",
       "    }\n",
       "</style>\n",
       "<table border=\"1\" class=\"dataframe\">\n",
       "  <thead>\n",
       "    <tr style=\"text-align: right;\">\n",
       "      <th>indicator</th>\n",
       "      <th>year</th>\n",
       "      <th>country_name</th>\n",
       "      <th>inflation</th>\n",
       "    </tr>\n",
       "  </thead>\n",
       "  <tbody>\n",
       "    <tr>\n",
       "      <th>0</th>\n",
       "      <td>1960</td>\n",
       "      <td>Australia</td>\n",
       "      <td>3.728814</td>\n",
       "    </tr>\n",
       "    <tr>\n",
       "      <th>1</th>\n",
       "      <td>1960</td>\n",
       "      <td>Canada</td>\n",
       "      <td>1.358696</td>\n",
       "    </tr>\n",
       "    <tr>\n",
       "      <th>2</th>\n",
       "      <td>1960</td>\n",
       "      <td>Germany</td>\n",
       "      <td>1.536612</td>\n",
       "    </tr>\n",
       "    <tr>\n",
       "      <th>3</th>\n",
       "      <td>1960</td>\n",
       "      <td>France</td>\n",
       "      <td>4.139936</td>\n",
       "    </tr>\n",
       "    <tr>\n",
       "      <th>4</th>\n",
       "      <td>1960</td>\n",
       "      <td>United Kingdom</td>\n",
       "      <td>1.003576</td>\n",
       "    </tr>\n",
       "  </tbody>\n",
       "</table>\n",
       "</div>"
      ],
      "text/plain": [
       "indicator  year    country_name  inflation\n",
       "0          1960       Australia   3.728814\n",
       "1          1960          Canada   1.358696\n",
       "2          1960         Germany   1.536612\n",
       "3          1960          France   4.139936\n",
       "4          1960  United Kingdom   1.003576"
      ]
     },
     "execution_count": 214,
     "metadata": {},
     "output_type": "execute_result"
    }
   ],
   "source": [
    "inflation_subset.head()"
   ]
  },
  {
   "cell_type": "code",
   "execution_count": 215,
   "metadata": {},
   "outputs": [
    {
     "data": {
      "text/plain": [
       "(592, 3)"
      ]
     },
     "execution_count": 215,
     "metadata": {},
     "output_type": "execute_result"
    }
   ],
   "source": [
    "inflation_subset.shape"
   ]
  },
  {
   "cell_type": "code",
   "execution_count": 216,
   "metadata": {},
   "outputs": [
    {
     "name": "stdout",
     "output_type": "stream",
     "text": [
      "<class 'pandas.core.frame.DataFrame'>\n",
      "RangeIndex: 592 entries, 0 to 591\n",
      "Data columns (total 3 columns):\n",
      " #   Column        Non-Null Count  Dtype  \n",
      "---  ------        --------------  -----  \n",
      " 0   year          592 non-null    int64  \n",
      " 1   country_name  592 non-null    object \n",
      " 2   inflation     592 non-null    float64\n",
      "dtypes: float64(1), int64(1), object(1)\n",
      "memory usage: 14.0+ KB\n"
     ]
    }
   ],
   "source": [
    "inflation_subset.info()"
   ]
  },
  {
   "cell_type": "code",
   "execution_count": 217,
   "metadata": {},
   "outputs": [
    {
     "data": {
      "text/html": [
       "<div>\n",
       "<style scoped>\n",
       "    .dataframe tbody tr th:only-of-type {\n",
       "        vertical-align: middle;\n",
       "    }\n",
       "\n",
       "    .dataframe tbody tr th {\n",
       "        vertical-align: top;\n",
       "    }\n",
       "\n",
       "    .dataframe thead th {\n",
       "        text-align: right;\n",
       "    }\n",
       "</style>\n",
       "<table border=\"1\" class=\"dataframe\">\n",
       "  <thead>\n",
       "    <tr style=\"text-align: right;\">\n",
       "      <th>indicator</th>\n",
       "      <th>year</th>\n",
       "      <th>inflation</th>\n",
       "    </tr>\n",
       "  </thead>\n",
       "  <tbody>\n",
       "    <tr>\n",
       "      <th>count</th>\n",
       "      <td>592.000000</td>\n",
       "      <td>592.000000</td>\n",
       "    </tr>\n",
       "    <tr>\n",
       "      <th>mean</th>\n",
       "      <td>1993.106419</td>\n",
       "      <td>23.898426</td>\n",
       "    </tr>\n",
       "    <tr>\n",
       "      <th>std</th>\n",
       "      <td>18.188536</td>\n",
       "      <td>184.588616</td>\n",
       "    </tr>\n",
       "    <tr>\n",
       "      <th>min</th>\n",
       "      <td>1960.000000</td>\n",
       "      <td>-7.633948</td>\n",
       "    </tr>\n",
       "    <tr>\n",
       "      <th>25%</th>\n",
       "      <td>1978.000000</td>\n",
       "      <td>1.775090</td>\n",
       "    </tr>\n",
       "    <tr>\n",
       "      <th>50%</th>\n",
       "      <td>1994.000000</td>\n",
       "      <td>3.291156</td>\n",
       "    </tr>\n",
       "    <tr>\n",
       "      <th>75%</th>\n",
       "      <td>2009.000000</td>\n",
       "      <td>6.378498</td>\n",
       "    </tr>\n",
       "    <tr>\n",
       "      <th>max</th>\n",
       "      <td>2023.000000</td>\n",
       "      <td>2947.732772</td>\n",
       "    </tr>\n",
       "  </tbody>\n",
       "</table>\n",
       "</div>"
      ],
      "text/plain": [
       "indicator         year    inflation\n",
       "count       592.000000   592.000000\n",
       "mean       1993.106419    23.898426\n",
       "std          18.188536   184.588616\n",
       "min        1960.000000    -7.633948\n",
       "25%        1978.000000     1.775090\n",
       "50%        1994.000000     3.291156\n",
       "75%        2009.000000     6.378498\n",
       "max        2023.000000  2947.732772"
      ]
     },
     "execution_count": 217,
     "metadata": {},
     "output_type": "execute_result"
    }
   ],
   "source": [
    "inflation_subset.describe()"
   ]
  },
  {
   "cell_type": "markdown",
   "metadata": {},
   "source": [
    "## Time Series Analysis (Inflation dataset)"
   ]
  },
  {
   "cell_type": "markdown",
   "metadata": {},
   "source": [
    "We can start by analyzing each country's data, starting with Germany"
   ]
  },
  {
   "cell_type": "code",
   "execution_count": 218,
   "metadata": {},
   "outputs": [
    {
     "data": {
      "image/png": "[encoded data removed]",
      "text/plain": [
       "<Figure size 1800x700 with 4 Axes>"
      ]
     },
     "metadata": {},
     "output_type": "display_data"
    }
   ],
   "source": [
    "ts_germany_inflation = (\n",
    "    inflation_subset[inflation_subset['country_name'] == 'Germany']\n",
    "    .sort_values('year')\n",
    "    .set_index('year')['inflation']\n",
    ")\n",
    "\n",
    "decomposition = sm.tsa.seasonal_decompose(ts_germany_inflation, model='additive', period=1)\n",
    "\n",
    "rcParams['figure.figsize'] = 18, 7\n",
    "\n",
    "decomposition.plot()\n",
    "plt.suptitle(\"Descomposition of inflation by country — Germany\", fontsize=16)\n",
    "plt.show()"
   ]
  },
  {
   "cell_type": "markdown",
   "metadata": {},
   "source": [
    "## Dickey–Fuller function to check for stationary"
   ]
  },
  {
   "cell_type": "code",
   "execution_count": 219,
   "metadata": {},
   "outputs": [
    {
     "name": "stdout",
     "output_type": "stream",
     "text": [
      "\n",
      "--- Dickey-Fuller Stationarity test: Germany ---\n",
      "Test Statistic                 -3.566052\n",
      "p-value                         0.006444\n",
      "Number of Lags Used             1.000000\n",
      "Number of Observations Used    62.000000\n",
      "Critical Value (1%)            -3.540523\n",
      "Critical Value (5%)            -2.909427\n",
      "Critical Value (10%)           -2.592314\n",
      "dtype: float64\n"
     ]
    },
    {
     "data": {
      "text/plain": [
       "np.float64(0.006444212864008947)"
      ]
     },
     "execution_count": 219,
     "metadata": {},
     "output_type": "execute_result"
    }
   ],
   "source": [
    "# Dickey-Fuller test for inflation in Germany\n",
    "\n",
    "ts_germany_inflation = (\n",
    "    inflation_subset[inflation_subset['country_name'] == 'Germany']\n",
    "    .set_index('year')['inflation'] \n",
    "    .sort_index()\n",
    ")\n",
    "\n",
    "dickey_fuller(ts_germany_inflation, \"Germany\")"
   ]
  },
  {
   "cell_type": "markdown",
   "metadata": {},
   "source": [
    "The test statistic is lower than the 5% critical value, and the p-value is less than 0.05. The German inflation series is stationary."
   ]
  },
  {
   "cell_type": "markdown",
   "metadata": {},
   "source": [
    "## Check for data’s autocorrelations"
   ]
  },
  {
   "cell_type": "code",
   "execution_count": 220,
   "metadata": {},
   "outputs": [
    {
     "data": {
      "text/plain": [
       "<Figure size 1200x400 with 0 Axes>"
      ]
     },
     "metadata": {},
     "output_type": "display_data"
    },
    {
     "data": {
      "image/png": "[encoded data removed]",
      "text/plain": [
       "<Figure size 1800x700 with 1 Axes>"
      ]
     },
     "metadata": {},
     "output_type": "display_data"
    },
    {
     "data": {
      "text/plain": [
       "<Figure size 1200x400 with 0 Axes>"
      ]
     },
     "metadata": {},
     "output_type": "display_data"
    },
    {
     "data": {
      "image/png": "[encoded data removed]",
      "text/plain": [
       "<Figure size 1800x700 with 1 Axes>"
      ]
     },
     "metadata": {},
     "output_type": "display_data"
    }
   ],
   "source": [
    "# ACF\n",
    "\n",
    "plt.figure(figsize=(12,4))\n",
    "plot_acf(ts_germany_inflation, lags=20, alpha=0.05)  # alpha=0.05 -> bandas de confianza\n",
    "plt.title(\"ACF — Inflation Germany\")\n",
    "plt.show()\n",
    "\n",
    "\n",
    "# PACF\n",
    "\n",
    "plt.figure(figsize=(12,4))\n",
    "plot_pacf(ts_germany_inflation, lags=20, method='ywm')\n",
    "plt.title(\"PACF — Inflation Germany\")\n",
    "plt.show()"
   ]
  },
  {
   "cell_type": "markdown",
   "metadata": {},
   "source": [
    "There is a strong initial correlation between both graphs, showing a high positive correlation around 0.75-1.0. This indicates that German inflation in one period is strongly correlated with inflation in the previous period. The blue area represents intervals, with most correlations beyond 3 falling within these bounds, indicating they aren't statistically significant.\n",
    "\n",
    "This inflation series is stationary but without an obvious seasonal pattern. All in all, the German inflation data shows strong autoregressive behavior, where recent inflation values are determined by recent past values."
   ]
  },
  {
   "cell_type": "markdown",
   "metadata": {},
   "source": [
    "## Next steps"
   ]
  },
  {
   "cell_type": "markdown",
   "metadata": {},
   "source": [
    "I will analyze the following data in order to cross it with the primary Startups dataset:\n",
    "  \n",
    "- Inflation data from 1960 to 2020 for the 10 countries: as I've done in this task, I can continue the analysis by country. In addition, I can combine all data to see if there is any correlation with funding or even valuation.\n",
    "\n",
    "- R&D data from 2000 to 2020 with 9 countries excluding Australia: As for the inflation variable, analyzing R&D values by country can help to add some context to the data from the main Startups dataset."
   ]
  }
 ],
 "metadata": {
  "kernelspec": {
   "display_name": "Python [conda env:base] *",
   "language": "python",
   "name": "conda-base-py"
  },
  "language_info": {
   "codemirror_mode": {
    "name": "ipython",
    "version": 3
   },
   "file_extension": ".py",
   "mimetype": "text/x-python",
   "name": "python",
   "nbconvert_exporter": "python",
   "pygments_lexer": "ipython3",
   "version": "3.13.5"
  }
 },
 "nbformat": 4,
 "nbformat_minor": 4
}
